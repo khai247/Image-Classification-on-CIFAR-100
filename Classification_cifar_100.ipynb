{
  "nbformat": 4,
  "nbformat_minor": 0,
  "metadata": {
    "colab": {
      "name": "Classification cifar 100",
      "provenance": [],
      "collapsed_sections": [],
      "machine_shape": "hm"
    },
    "kernelspec": {
      "name": "python3",
      "display_name": "Python 3"
    },
    "language_info": {
      "name": "python"
    },
    "accelerator": "GPU"
  },
  "cells": [
    {
      "cell_type": "code",
      "metadata": {
        "id": "pXPb3xymFJBB"
      },
      "source": [
        "import torch\n",
        "import numpy as np\n",
        "import torchvision as tv\n",
        "from sklearn.model_selection import train_test_split\n",
        "from torch.utils.data import DataLoader, RandomSampler\n",
        "import torch.nn as nn\n",
        "import torch.nn.functional as F\n",
        "from collections import OrderedDict\n",
        "from sklearn.metrics import accuracy_score, f1_score, classification_report"
      ],
      "execution_count": null,
      "outputs": []
    },
    {
      "cell_type": "code",
      "metadata": {
        "id": "DsNUnUMwI_NI",
        "colab": {
          "base_uri": "https://localhost:8080/"
        },
        "outputId": "f0d72f38-d70d-4bf2-eed8-c3cd2350ac38"
      },
      "source": [
        "from google.colab import drive\n",
        "drive.mount(\"/content/drive\")"
      ],
      "execution_count": null,
      "outputs": [
        {
          "output_type": "stream",
          "text": [
            "Drive already mounted at /content/drive; to attempt to forcibly remount, call drive.mount(\"/content/drive\", force_remount=True).\n"
          ],
          "name": "stdout"
        }
      ]
    },
    {
      "cell_type": "code",
      "metadata": {
        "id": "cB7e_QBEDIpX"
      },
      "source": [
        "def save_checkpoint(save_path, model, optimizer, valid_loss):\n",
        "  if save_path == None:\n",
        "    return\n",
        "  checkpoint = {\n",
        "      'model_state_dict': model.state_dict(),\n",
        "      'optimizer_state_dict': optimizer.state_dict(),\n",
        "      'valid_loss': valid_loss\n",
        "  }\n",
        "  torch.save(checkpoint, save_path)\n",
        "  print(f\"Model is saved ==> {save_path}\")\n",
        "\n",
        "def load_checkpoint(load_path, model, optimizer, device):\n",
        "  if load_path == None:\n",
        "    return\n",
        "  checkpoint = torch.load(load_path, map_location = device)\n",
        "  model.load_state_dict(checkpoint['model_state_dict'])\n",
        "  optimizer.load_state_dict(checkpoint['optimizer_state_dict'])\n",
        "  print(f\"Load checkpoint from {load_path}\")\n",
        "  return checkpoint['valid_loss']\n",
        "  "
      ],
      "execution_count": null,
      "outputs": []
    },
    {
      "cell_type": "code",
      "metadata": {
        "id": "Q_39KqSOFZyp"
      },
      "source": [
        "def save_metrics(save_path, train_loss_list, valid_loss_list):\n",
        "  if save_path == None:\n",
        "    return\n",
        "  metrics = {\n",
        "      'train_loss_list': train_loss_list,\n",
        "      'valid_loss_list': valid_loss_list\n",
        "  }\n",
        "  torch.save(metrics, save_path)\n",
        "  print(f\"Metrics is saved ==> {save_path}\")\n",
        "\n",
        "def load_metrics(load_path, device):\n",
        "  if load_path == None:\n",
        "    return\n",
        "  metrics = torch.load(load_path, map_location = device)\n",
        "  return metrics['train_loss_list'], metrics['valid_loss_list']"
      ],
      "execution_count": null,
      "outputs": []
    },
    {
      "cell_type": "code",
      "metadata": {
        "id": "Gh0HBB0GFzD4"
      },
      "source": [
        "def get_resolution(original_resolution):\n",
        "  area = original_resolution[0] * original_resolution[1]\n",
        "  return (160, 128) if area < 96*96 else (512, 480)\n",
        "\n",
        "known_dataset_sizes = {\n",
        "  'cifar10': (32, 32),\n",
        "  'cifar100': (32, 32),\n",
        "  'oxford_iiit_pet': (224, 224),\n",
        "  'oxford_flowers102': (224, 224),\n",
        "  'imagenet2012': (224, 224),\n",
        "}\n",
        "\n",
        "def get_resolution_from_dataset(dataset):\n",
        "  if dataset not in known_dataset_sizes:\n",
        "    return\n",
        "  return get_resolution(known_dataset_sizes[dataset])"
      ],
      "execution_count": null,
      "outputs": []
    },
    {
      "cell_type": "code",
      "metadata": {
        "id": "95RykA-yIayj"
      },
      "source": [
        " precrop, crop = get_resolution_from_dataset('cifar100')"
      ],
      "execution_count": null,
      "outputs": []
    },
    {
      "cell_type": "code",
      "metadata": {
        "id": "gOeEuQAXIkZC",
        "colab": {
          "base_uri": "https://localhost:8080/"
        },
        "outputId": "93de7a28-f211-43fb-a78e-a59c638ea27a"
      },
      "source": [
        "precrop, crop"
      ],
      "execution_count": null,
      "outputs": [
        {
          "output_type": "execute_result",
          "data": {
            "text/plain": [
              "(160, 128)"
            ]
          },
          "metadata": {},
          "execution_count": 7
        }
      ]
    },
    {
      "cell_type": "code",
      "metadata": {
        "id": "sJphLnO2IpMF"
      },
      "source": [
        "train_tx = tv.transforms.Compose([\n",
        "    tv.transforms.Resize((precrop, precrop)),\n",
        "    tv.transforms.RandomCrop((crop, crop)),\n",
        "    tv.transforms.RandomHorizontalFlip(),\n",
        "    tv.transforms.ToTensor(),\n",
        "    tv.transforms.Normalize((0.5, 0.5, 0.5), (0.5, 0.5, 0.5)),\n",
        "])\n",
        "val_tx = tv.transforms.Compose([\n",
        "    tv.transforms.Resize((crop, crop)),\n",
        "    tv.transforms.ToTensor(),\n",
        "    tv.transforms.Normalize((0.5, 0.5, 0.5), (0.5, 0.5, 0.5)),\n",
        "])"
      ],
      "execution_count": null,
      "outputs": []
    },
    {
      "cell_type": "code",
      "metadata": {
        "id": "zsQGhNvtJMNv",
        "colab": {
          "base_uri": "https://localhost:8080/"
        },
        "outputId": "dd847897-b89a-441c-d53f-76770d0df59b"
      },
      "source": [
        "cd /content/drive/MyDrive/Deep Learning Co Ban"
      ],
      "execution_count": null,
      "outputs": [
        {
          "output_type": "stream",
          "text": [
            "/content/drive/MyDrive/Deep Learning Co Ban\n"
          ],
          "name": "stdout"
        }
      ]
    },
    {
      "cell_type": "code",
      "metadata": {
        "id": "Tws0O8TfI7RB",
        "colab": {
          "base_uri": "https://localhost:8080/"
        },
        "outputId": "a2b78063-0f09-4b1a-9eff-dd0317f9597c"
      },
      "source": [
        "train_set = tv.datasets.CIFAR100(root = \"CIFAR100\", transform=train_tx, train=True, download=True)\n",
        "test_set = tv.datasets.CIFAR100(root = \"CIFAR100\", transform=val_tx, train=False, download=True)"
      ],
      "execution_count": null,
      "outputs": [
        {
          "output_type": "stream",
          "text": [
            "Files already downloaded and verified\n",
            "Files already downloaded and verified\n"
          ],
          "name": "stdout"
        }
      ]
    },
    {
      "cell_type": "code",
      "metadata": {
        "id": "O8U15XagO7EC",
        "colab": {
          "base_uri": "https://localhost:8080/"
        },
        "outputId": "db45aa3f-db80-493c-b86c-7fc13da1115b"
      },
      "source": [
        "print(test_set.classes)\n",
        "print(test_set.class_to_idx)"
      ],
      "execution_count": null,
      "outputs": [
        {
          "output_type": "stream",
          "text": [
            "['apple', 'aquarium_fish', 'baby', 'bear', 'beaver', 'bed', 'bee', 'beetle', 'bicycle', 'bottle', 'bowl', 'boy', 'bridge', 'bus', 'butterfly', 'camel', 'can', 'castle', 'caterpillar', 'cattle', 'chair', 'chimpanzee', 'clock', 'cloud', 'cockroach', 'couch', 'crab', 'crocodile', 'cup', 'dinosaur', 'dolphin', 'elephant', 'flatfish', 'forest', 'fox', 'girl', 'hamster', 'house', 'kangaroo', 'keyboard', 'lamp', 'lawn_mower', 'leopard', 'lion', 'lizard', 'lobster', 'man', 'maple_tree', 'motorcycle', 'mountain', 'mouse', 'mushroom', 'oak_tree', 'orange', 'orchid', 'otter', 'palm_tree', 'pear', 'pickup_truck', 'pine_tree', 'plain', 'plate', 'poppy', 'porcupine', 'possum', 'rabbit', 'raccoon', 'ray', 'road', 'rocket', 'rose', 'sea', 'seal', 'shark', 'shrew', 'skunk', 'skyscraper', 'snail', 'snake', 'spider', 'squirrel', 'streetcar', 'sunflower', 'sweet_pepper', 'table', 'tank', 'telephone', 'television', 'tiger', 'tractor', 'train', 'trout', 'tulip', 'turtle', 'wardrobe', 'whale', 'willow_tree', 'wolf', 'woman', 'worm']\n",
            "{'apple': 0, 'aquarium_fish': 1, 'baby': 2, 'bear': 3, 'beaver': 4, 'bed': 5, 'bee': 6, 'beetle': 7, 'bicycle': 8, 'bottle': 9, 'bowl': 10, 'boy': 11, 'bridge': 12, 'bus': 13, 'butterfly': 14, 'camel': 15, 'can': 16, 'castle': 17, 'caterpillar': 18, 'cattle': 19, 'chair': 20, 'chimpanzee': 21, 'clock': 22, 'cloud': 23, 'cockroach': 24, 'couch': 25, 'crab': 26, 'crocodile': 27, 'cup': 28, 'dinosaur': 29, 'dolphin': 30, 'elephant': 31, 'flatfish': 32, 'forest': 33, 'fox': 34, 'girl': 35, 'hamster': 36, 'house': 37, 'kangaroo': 38, 'keyboard': 39, 'lamp': 40, 'lawn_mower': 41, 'leopard': 42, 'lion': 43, 'lizard': 44, 'lobster': 45, 'man': 46, 'maple_tree': 47, 'motorcycle': 48, 'mountain': 49, 'mouse': 50, 'mushroom': 51, 'oak_tree': 52, 'orange': 53, 'orchid': 54, 'otter': 55, 'palm_tree': 56, 'pear': 57, 'pickup_truck': 58, 'pine_tree': 59, 'plain': 60, 'plate': 61, 'poppy': 62, 'porcupine': 63, 'possum': 64, 'rabbit': 65, 'raccoon': 66, 'ray': 67, 'road': 68, 'rocket': 69, 'rose': 70, 'sea': 71, 'seal': 72, 'shark': 73, 'shrew': 74, 'skunk': 75, 'skyscraper': 76, 'snail': 77, 'snake': 78, 'spider': 79, 'squirrel': 80, 'streetcar': 81, 'sunflower': 82, 'sweet_pepper': 83, 'table': 84, 'tank': 85, 'telephone': 86, 'television': 87, 'tiger': 88, 'tractor': 89, 'train': 90, 'trout': 91, 'tulip': 92, 'turtle': 93, 'wardrobe': 94, 'whale': 95, 'willow_tree': 96, 'wolf': 97, 'woman': 98, 'worm': 99}\n"
          ],
          "name": "stdout"
        }
      ]
    },
    {
      "cell_type": "code",
      "metadata": {
        "id": "psIpagESZdEk"
      },
      "source": [
        "idx_to_class = {}\n",
        "for label, index in test_set.class_to_idx.items():\n",
        "  idx_to_class[index] = label"
      ],
      "execution_count": null,
      "outputs": []
    },
    {
      "cell_type": "code",
      "metadata": {
        "id": "Z6FL81vbZssE",
        "colab": {
          "base_uri": "https://localhost:8080/"
        },
        "outputId": "6ca9bb96-a6bd-4ac2-ce6e-56b5bf99555b"
      },
      "source": [
        "print(idx_to_class)"
      ],
      "execution_count": null,
      "outputs": [
        {
          "output_type": "stream",
          "text": [
            "{0: 'apple', 1: 'aquarium_fish', 2: 'baby', 3: 'bear', 4: 'beaver', 5: 'bed', 6: 'bee', 7: 'beetle', 8: 'bicycle', 9: 'bottle', 10: 'bowl', 11: 'boy', 12: 'bridge', 13: 'bus', 14: 'butterfly', 15: 'camel', 16: 'can', 17: 'castle', 18: 'caterpillar', 19: 'cattle', 20: 'chair', 21: 'chimpanzee', 22: 'clock', 23: 'cloud', 24: 'cockroach', 25: 'couch', 26: 'crab', 27: 'crocodile', 28: 'cup', 29: 'dinosaur', 30: 'dolphin', 31: 'elephant', 32: 'flatfish', 33: 'forest', 34: 'fox', 35: 'girl', 36: 'hamster', 37: 'house', 38: 'kangaroo', 39: 'keyboard', 40: 'lamp', 41: 'lawn_mower', 42: 'leopard', 43: 'lion', 44: 'lizard', 45: 'lobster', 46: 'man', 47: 'maple_tree', 48: 'motorcycle', 49: 'mountain', 50: 'mouse', 51: 'mushroom', 52: 'oak_tree', 53: 'orange', 54: 'orchid', 55: 'otter', 56: 'palm_tree', 57: 'pear', 58: 'pickup_truck', 59: 'pine_tree', 60: 'plain', 61: 'plate', 62: 'poppy', 63: 'porcupine', 64: 'possum', 65: 'rabbit', 66: 'raccoon', 67: 'ray', 68: 'road', 69: 'rocket', 70: 'rose', 71: 'sea', 72: 'seal', 73: 'shark', 74: 'shrew', 75: 'skunk', 76: 'skyscraper', 77: 'snail', 78: 'snake', 79: 'spider', 80: 'squirrel', 81: 'streetcar', 82: 'sunflower', 83: 'sweet_pepper', 84: 'table', 85: 'tank', 86: 'telephone', 87: 'television', 88: 'tiger', 89: 'tractor', 90: 'train', 91: 'trout', 92: 'tulip', 93: 'turtle', 94: 'wardrobe', 95: 'whale', 96: 'willow_tree', 97: 'wolf', 98: 'woman', 99: 'worm'}\n"
          ],
          "name": "stdout"
        }
      ]
    },
    {
      "cell_type": "code",
      "metadata": {
        "id": "2LzlbwGFNGXp"
      },
      "source": [
        "train_set, valid_set = train_test_split(train_set, test_size = 0.2, shuffle = True)"
      ],
      "execution_count": null,
      "outputs": []
    },
    {
      "cell_type": "code",
      "metadata": {
        "id": "P4BsbV-5N7Te",
        "colab": {
          "base_uri": "https://localhost:8080/"
        },
        "outputId": "965af7d2-516a-4bc2-9156-9c2b0594c6fe"
      },
      "source": [
        "len(train_set), len(valid_set)"
      ],
      "execution_count": null,
      "outputs": [
        {
          "output_type": "execute_result",
          "data": {
            "text/plain": [
              "(40000, 10000)"
            ]
          },
          "metadata": {},
          "execution_count": 15
        }
      ]
    },
    {
      "cell_type": "code",
      "metadata": {
        "id": "ZR7ZShGQN8u2",
        "colab": {
          "base_uri": "https://localhost:8080/"
        },
        "outputId": "f5a858ee-af5d-41ea-c3b7-813501f1cd69"
      },
      "source": [
        "train_set[0][0].size(), train_set[0][1]"
      ],
      "execution_count": null,
      "outputs": [
        {
          "output_type": "execute_result",
          "data": {
            "text/plain": [
              "(torch.Size([3, 128, 128]), 36)"
            ]
          },
          "metadata": {},
          "execution_count": 16
        }
      ]
    },
    {
      "cell_type": "code",
      "metadata": {
        "id": "oZd89IpGOPmJ"
      },
      "source": [
        "train_dataloader = DataLoader(train_set, batch_size = 64, shuffle = True)\n",
        "valid_dataloader = DataLoader(valid_set, batch_size = 64, shuffle = True)\n",
        "test_dataloader = DataLoader(test_set, batch_size = 1, shuffle = False)\n"
      ],
      "execution_count": null,
      "outputs": []
    },
    {
      "cell_type": "code",
      "metadata": {
        "id": "qPRigIuzOt-U",
        "colab": {
          "base_uri": "https://localhost:8080/"
        },
        "outputId": "7fd6ccba-4cc7-4843-cfcc-f87130df7e14"
      },
      "source": [
        "for batch in train_dataloader:\n",
        "  image = batch[0]\n",
        "  label = batch[1]\n",
        "  print(image.size())\n",
        "  print(label)\n",
        "  break"
      ],
      "execution_count": null,
      "outputs": [
        {
          "output_type": "stream",
          "text": [
            "torch.Size([64, 3, 128, 128])\n",
            "tensor([96, 78, 33, 13, 36, 42, 53, 66, 30, 13, 67, 16, 21, 19, 92, 96, 82, 53,\n",
            "         7, 83, 16, 30, 88, 21, 32, 66, 40, 19, 38,  8, 44, 26, 22,  6, 20,  3,\n",
            "        78, 57, 98, 72, 49,  2, 36, 29,  7, 62, 14, 13, 52, 55,  9, 69, 88, 68,\n",
            "        33, 30, 70, 97, 82, 94, 89, 19, 27, 67])\n"
          ],
          "name": "stdout"
        }
      ]
    },
    {
      "cell_type": "code",
      "metadata": {
        "id": "ZkmqvHmsOzzG"
      },
      "source": [
        "class StdConv2d(nn.Conv2d):\n",
        "\n",
        "  def forward(self, x):\n",
        "    w = self.weight\n",
        "    v, m = torch.var_mean(w, dim=[1, 2, 3], keepdim=True, unbiased=False)\n",
        "    w = (w - m) / torch.sqrt(v + 1e-10)\n",
        "    return F.conv2d(x, w, self.bias, self.stride, self.padding,\n",
        "                    self.dilation, self.groups)\n",
        "\n",
        "\n",
        "def conv3x3(cin, cout, stride=1, groups=1, bias=False):\n",
        "  return StdConv2d(cin, cout, kernel_size=3, stride=stride,\n",
        "                   padding=1, bias=bias, groups=groups)\n",
        "\n",
        "\n",
        "def conv1x1(cin, cout, stride=1, bias=False):\n",
        "  return StdConv2d(cin, cout, kernel_size=1, stride=stride,\n",
        "                   padding=0, bias=bias)\n",
        "\n",
        "\n",
        "def tf2th(conv_weights):\n",
        "  \"\"\"Possibly convert HWIO to OIHW.\"\"\"\n",
        "  if conv_weights.ndim == 4:\n",
        "    conv_weights = conv_weights.transpose([3, 2, 0, 1])\n",
        "  return torch.from_numpy(conv_weights)\n",
        "\n",
        "\n",
        "class PreActBottleneck(nn.Module):\n",
        "  \"\"\"Pre-activation (v2) bottleneck block.\n",
        "  Follows the implementation of \"Identity Mappings in Deep Residual Networks\":\n",
        "  https://github.com/KaimingHe/resnet-1k-layers/blob/master/resnet-pre-act.lua\n",
        "  Except it puts the stride on 3x3 conv when available.\n",
        "  \"\"\"\n",
        "\n",
        "  def __init__(self, cin, cout=None, cmid=None, stride=1):\n",
        "    super().__init__()\n",
        "    cout = cout or cin\n",
        "    cmid = cmid or cout//4\n",
        "\n",
        "    self.gn1 = nn.GroupNorm(32, cin)\n",
        "    self.conv1 = conv1x1(cin, cmid)\n",
        "    self.gn2 = nn.GroupNorm(32, cmid)\n",
        "    self.conv2 = conv3x3(cmid, cmid, stride)  # Original code has it on conv1!!\n",
        "    self.gn3 = nn.GroupNorm(32, cmid)\n",
        "    self.conv3 = conv1x1(cmid, cout)\n",
        "    self.relu = nn.ReLU(inplace=True)\n",
        "\n",
        "    if (stride != 1 or cin != cout):\n",
        "      # Projection also with pre-activation according to paper.\n",
        "      self.downsample = conv1x1(cin, cout, stride)\n",
        "\n",
        "  def forward(self, x):\n",
        "    out = self.relu(self.gn1(x))\n",
        "\n",
        "    # Residual branch\n",
        "    residual = x\n",
        "    if hasattr(self, 'downsample'):\n",
        "      residual = self.downsample(out)\n",
        "\n",
        "    # Unit's branch\n",
        "    out = self.conv1(out)\n",
        "    out = self.conv2(self.relu(self.gn2(out)))\n",
        "    out = self.conv3(self.relu(self.gn3(out)))\n",
        "\n",
        "    return out + residual\n",
        "\n",
        "  def load_from(self, weights, prefix=''):\n",
        "    convname = 'standardized_conv2d'\n",
        "    with torch.no_grad():\n",
        "      self.conv1.weight.copy_(tf2th(weights[f'{prefix}a/{convname}/kernel']))\n",
        "      self.conv2.weight.copy_(tf2th(weights[f'{prefix}b/{convname}/kernel']))\n",
        "      self.conv3.weight.copy_(tf2th(weights[f'{prefix}c/{convname}/kernel']))\n",
        "      self.gn1.weight.copy_(tf2th(weights[f'{prefix}a/group_norm/gamma']))\n",
        "      self.gn2.weight.copy_(tf2th(weights[f'{prefix}b/group_norm/gamma']))\n",
        "      self.gn3.weight.copy_(tf2th(weights[f'{prefix}c/group_norm/gamma']))\n",
        "      self.gn1.bias.copy_(tf2th(weights[f'{prefix}a/group_norm/beta']))\n",
        "      self.gn2.bias.copy_(tf2th(weights[f'{prefix}b/group_norm/beta']))\n",
        "      self.gn3.bias.copy_(tf2th(weights[f'{prefix}c/group_norm/beta']))\n",
        "      if hasattr(self, 'downsample'):\n",
        "        w = weights[f'{prefix}a/proj/{convname}/kernel']\n",
        "        self.downsample.weight.copy_(tf2th(w))\n",
        "\n",
        "\n",
        "class ResNetV2(nn.Module):\n",
        "  \"\"\"Implementation of Pre-activation (v2) ResNet mode.\"\"\"\n",
        "\n",
        "  def __init__(self, block_units, width_factor, head_size=21843, zero_head=False):\n",
        "    super().__init__()\n",
        "    wf = width_factor  # shortcut 'cause we'll use it a lot.\n",
        "\n",
        "    # The following will be unreadable if we split lines.\n",
        "    # pylint: disable=line-too-long\n",
        "    self.root = nn.Sequential(OrderedDict([\n",
        "        ('conv', StdConv2d(3, 64*wf, kernel_size=7, stride=2, padding=3, bias=False)),\n",
        "        ('pad', nn.ConstantPad2d(1, 0)),\n",
        "        ('pool', nn.MaxPool2d(kernel_size=3, stride=2, padding=0)),\n",
        "        # The following is subtly not the same!\n",
        "        # ('pool', nn.MaxPool2d(kernel_size=3, stride=2, padding=1)),\n",
        "    ]))\n",
        "\n",
        "    self.body = nn.Sequential(OrderedDict([\n",
        "        ('block1', nn.Sequential(OrderedDict(\n",
        "            [('unit01', PreActBottleneck(cin=64*wf, cout=256*wf, cmid=64*wf))] +\n",
        "            [(f'unit{i:02d}', PreActBottleneck(cin=256*wf, cout=256*wf, cmid=64*wf)) for i in range(2, block_units[0] + 1)],\n",
        "        ))),\n",
        "        ('block2', nn.Sequential(OrderedDict(\n",
        "            [('unit01', PreActBottleneck(cin=256*wf, cout=512*wf, cmid=128*wf, stride=2))] +\n",
        "            [(f'unit{i:02d}', PreActBottleneck(cin=512*wf, cout=512*wf, cmid=128*wf)) for i in range(2, block_units[1] + 1)],\n",
        "        ))),\n",
        "        ('block3', nn.Sequential(OrderedDict(\n",
        "            [('unit01', PreActBottleneck(cin=512*wf, cout=1024*wf, cmid=256*wf, stride=2))] +\n",
        "            [(f'unit{i:02d}', PreActBottleneck(cin=1024*wf, cout=1024*wf, cmid=256*wf)) for i in range(2, block_units[2] + 1)],\n",
        "        ))),\n",
        "        ('block4', nn.Sequential(OrderedDict(\n",
        "            [('unit01', PreActBottleneck(cin=1024*wf, cout=2048*wf, cmid=512*wf, stride=2))] +\n",
        "            [(f'unit{i:02d}', PreActBottleneck(cin=2048*wf, cout=2048*wf, cmid=512*wf)) for i in range(2, block_units[3] + 1)],\n",
        "        ))),\n",
        "    ]))\n",
        "    # pylint: enable=line-too-long\n",
        "\n",
        "    self.zero_head = zero_head\n",
        "    self.head = nn.Sequential(OrderedDict([\n",
        "        ('gn', nn.GroupNorm(32, 2048*wf)),\n",
        "        ('relu', nn.ReLU(inplace=True)),\n",
        "        ('avg', nn.AdaptiveAvgPool2d(output_size=1)),\n",
        "        ('conv', nn.Conv2d(2048*wf, head_size, kernel_size=1, bias=True)),\n",
        "    ]))\n",
        "\n",
        "  def forward(self, x):\n",
        "    x = self.head(self.body(self.root(x)))\n",
        "    assert x.shape[-2:] == (1, 1)  # We should have no spatial shape left.\n",
        "    return x[...,0,0]\n",
        "\n",
        "  def load_from(self, weights, prefix='resnet/'):\n",
        "    with torch.no_grad():\n",
        "      self.root.conv.weight.copy_(tf2th(weights[f'{prefix}root_block/standardized_conv2d/kernel']))  # pylint: disable=line-too-long\n",
        "      self.head.gn.weight.copy_(tf2th(weights[f'{prefix}group_norm/gamma']))\n",
        "      self.head.gn.bias.copy_(tf2th(weights[f'{prefix}group_norm/beta']))\n",
        "      if self.zero_head:\n",
        "        nn.init.zeros_(self.head.conv.weight)\n",
        "        nn.init.zeros_(self.head.conv.bias)\n",
        "      else:\n",
        "        self.head.conv.weight.copy_(tf2th(weights[f'{prefix}head/conv2d/kernel']))  # pylint: disable=line-too-long\n",
        "        self.head.conv.bias.copy_(tf2th(weights[f'{prefix}head/conv2d/bias']))\n",
        "\n",
        "      for bname, block in self.body.named_children():\n",
        "        for uname, unit in block.named_children():\n",
        "          unit.load_from(weights, prefix=f'{prefix}{bname}/{uname}/')\n",
        "\n",
        "\n",
        "KNOWN_MODELS = OrderedDict([\n",
        "    ('BiT-M-R50x1', lambda *a, **kw: ResNetV2([3, 4, 6, 3], 1, *a, **kw)),\n",
        "    ('BiT-M-R50x3', lambda *a, **kw: ResNetV2([3, 4, 6, 3], 3, *a, **kw)),\n",
        "    ('BiT-M-R101x1', lambda *a, **kw: ResNetV2([3, 4, 23, 3], 1, *a, **kw)),\n",
        "    ('BiT-M-R101x3', lambda *a, **kw: ResNetV2([3, 4, 23, 3], 3, *a, **kw)),\n",
        "    ('BiT-M-R152x2', lambda *a, **kw: ResNetV2([3, 8, 36, 3], 2, *a, **kw)),\n",
        "    ('BiT-M-R152x4', lambda *a, **kw: ResNetV2([3, 8, 36, 3], 4, *a, **kw)),\n",
        "    ('BiT-S-R50x1', lambda *a, **kw: ResNetV2([3, 4, 6, 3], 1, *a, **kw)),\n",
        "    ('BiT-S-R50x3', lambda *a, **kw: ResNetV2([3, 4, 6, 3], 3, *a, **kw)),\n",
        "    ('BiT-S-R101x1', lambda *a, **kw: ResNetV2([3, 4, 23, 3], 1, *a, **kw)),\n",
        "    ('BiT-S-R101x3', lambda *a, **kw: ResNetV2([3, 4, 23, 3], 3, *a, **kw)),\n",
        "    ('BiT-S-R152x2', lambda *a, **kw: ResNetV2([3, 8, 36, 3], 2, *a, **kw)),\n",
        "    ('BiT-S-R152x4', lambda *a, **kw: ResNetV2([3, 8, 36, 3], 4, *a, **kw)),\n",
        "])"
      ],
      "execution_count": null,
      "outputs": []
    },
    {
      "cell_type": "code",
      "metadata": {
        "id": "Je3AOTr-P-F-"
      },
      "source": [
        "# model = KNOWN_MODELS['BiT-M-R152x2'](head_size = 100, zero_head = True)"
      ],
      "execution_count": null,
      "outputs": []
    },
    {
      "cell_type": "code",
      "metadata": {
        "id": "zCLDob8iQChE"
      },
      "source": [
        "# print(model)"
      ],
      "execution_count": null,
      "outputs": []
    },
    {
      "cell_type": "code",
      "metadata": {
        "id": "7VmXcemnShfB"
      },
      "source": [
        "# for batch in train_dataloader:\n",
        "#   image = batch[0]\n",
        "#   label = batch[1]\n",
        "#   output = model(image)\n",
        "#   print(output.size())\n",
        "#   print(output)\n",
        "#   break"
      ],
      "execution_count": null,
      "outputs": []
    },
    {
      "cell_type": "code",
      "metadata": {
        "id": "EgBHm8oefkmi"
      },
      "source": [
        "classes = test_set.classes"
      ],
      "execution_count": null,
      "outputs": []
    },
    {
      "cell_type": "code",
      "metadata": {
        "id": "Y1kOdhvqfret",
        "colab": {
          "base_uri": "https://localhost:8080/"
        },
        "outputId": "d33147ab-8bc1-4659-b820-0764cbac7dc6"
      },
      "source": [
        "print(classes)"
      ],
      "execution_count": null,
      "outputs": [
        {
          "output_type": "stream",
          "text": [
            "['apple', 'aquarium_fish', 'baby', 'bear', 'beaver', 'bed', 'bee', 'beetle', 'bicycle', 'bottle', 'bowl', 'boy', 'bridge', 'bus', 'butterfly', 'camel', 'can', 'castle', 'caterpillar', 'cattle', 'chair', 'chimpanzee', 'clock', 'cloud', 'cockroach', 'couch', 'crab', 'crocodile', 'cup', 'dinosaur', 'dolphin', 'elephant', 'flatfish', 'forest', 'fox', 'girl', 'hamster', 'house', 'kangaroo', 'keyboard', 'lamp', 'lawn_mower', 'leopard', 'lion', 'lizard', 'lobster', 'man', 'maple_tree', 'motorcycle', 'mountain', 'mouse', 'mushroom', 'oak_tree', 'orange', 'orchid', 'otter', 'palm_tree', 'pear', 'pickup_truck', 'pine_tree', 'plain', 'plate', 'poppy', 'porcupine', 'possum', 'rabbit', 'raccoon', 'ray', 'road', 'rocket', 'rose', 'sea', 'seal', 'shark', 'shrew', 'skunk', 'skyscraper', 'snail', 'snake', 'spider', 'squirrel', 'streetcar', 'sunflower', 'sweet_pepper', 'table', 'tank', 'telephone', 'television', 'tiger', 'tractor', 'train', 'trout', 'tulip', 'turtle', 'wardrobe', 'whale', 'willow_tree', 'wolf', 'woman', 'worm']\n"
          ],
          "name": "stdout"
        }
      ]
    },
    {
      "cell_type": "code",
      "metadata": {
        "id": "F9ESQRgGStX0"
      },
      "source": [
        "def predict(model, test_dataloader, device):\n",
        "  y_pred = []\n",
        "  y_true = []\n",
        "  model.eval()\n",
        "  for batch in test_dataloader:\n",
        "    image = batch[0].to(device)\n",
        "    label = batch[1].to(device)\n",
        "    with torch.no_grad():\n",
        "      outputs = model(image)\n",
        "    logits = outputs.detach().cpu().numpy()\n",
        "    pred_flat = np.argmax(logits, axis=1).flatten()\n",
        "    y_pred.extend(pred_flat.tolist())\n",
        "\n",
        "    labels = label.cpu().numpy().flatten()\n",
        "    y_true.extend(labels.tolist())\n",
        "    \n",
        "\n",
        "  print('Classification Report:')\n",
        "  print(classification_report(y_true, y_pred, target_names = classes))\n",
        "  return accuracy_score(y_true, y_pred), f1_score(y_true, y_pred, average='macro')"
      ],
      "execution_count": null,
      "outputs": []
    },
    {
      "cell_type": "code",
      "metadata": {
        "id": "cWAb7fIcVTZ2"
      },
      "source": [
        "def evalution(y_preds, y_true):\n",
        "    y_preds = y_preds.detach().cpu().numpy()\n",
        "    y_preds = np.argmax(y_preds, axis=1).flatten()\n",
        "\n",
        "    y_true = y_true.cpu().numpy().flatten()\n",
        "\n",
        "    return accuracy_score(y_true, y_preds), f1_score(y_true, y_preds, average='macro')"
      ],
      "execution_count": null,
      "outputs": []
    },
    {
      "cell_type": "code",
      "metadata": {
        "id": "NC_M-ohbWZZL"
      },
      "source": [
        "def get_schedule(dataset_size):\n",
        "  if dataset_size < 20_000:\n",
        "    return [100, 200, 300, 400, 500]\n",
        "  elif dataset_size < 500_000:\n",
        "    return [500, 3000, 6000, 9000, 10_000]\n",
        "  else:\n",
        "    return [500, 6000, 12_000, 18_000, 20_000]\n",
        "\n",
        "\n",
        "def get_lr(step, dataset_size, base_lr=0.001):\n",
        "  \"\"\"Returns learning-rate for `step` or None at the end.\"\"\"\n",
        "  supports = get_schedule(dataset_size)\n",
        "  # Linear warmup\n",
        "  if step < supports[0]:\n",
        "    return base_lr * step / supports[0]\n",
        "  # End of training\n",
        "  elif step >= supports[-1]:\n",
        "    return None\n",
        "  # Staircase decays by factor of 10\n",
        "  else:\n",
        "    for s in supports[1:]:\n",
        "      if s < step:\n",
        "        base_lr /= 10\n",
        "    return base_lr"
      ],
      "execution_count": null,
      "outputs": []
    },
    {
      "cell_type": "code",
      "metadata": {
        "id": "fJzYWzb8UtHJ"
      },
      "source": [
        "def train(model, optimizer, train_dataloader,loss_fn, valid_dataloader, num_epochs, file_path, device):\n",
        "  train_loss_list = []\n",
        "  valid_loss_list = []\n",
        "\n",
        "  best_valid_loss = 99999\n",
        "\n",
        "  for epoch in range(num_epochs):\n",
        "    print(\"====== Epoch: {}/{} =======\".format(epoch+1, num_epochs))\n",
        "    \n",
        "    total_loss = 0\n",
        "    train_accuracy = 0\n",
        "    train_f1 = 0\n",
        "    nb_train_steps = 0\n",
        "\n",
        "    model.train()\n",
        "\n",
        "    for step, batch in enumerate(train_dataloader):\n",
        "      image = batch[0].to(device)\n",
        "      label = batch[1].to(device)\n",
        "\n",
        "      model.zero_grad()\n",
        "\n",
        "      lr = get_lr(step, len(train_set))\n",
        "      if lr is None:\n",
        "        break\n",
        "      for param_group in optimizer.param_groups:\n",
        "        param_group[\"lr\"] = lr\n",
        "\n",
        "      outputs = model(image)\n",
        "\n",
        "      loss = loss_fn(outputs, label)\n",
        "      total_loss += loss.item()\n",
        "\n",
        "      tmp_train_accuracy, tmp_train_f1 = evalution(outputs, label)\n",
        "\n",
        "      train_accuracy += tmp_train_accuracy\n",
        "      train_f1 += tmp_train_f1\n",
        "      nb_train_steps +=1\n",
        "\n",
        "      loss.backward()\n",
        "      optimizer.step()\n",
        "\n",
        "      if step % 100 == 0 or step == len(train_dataloader):\n",
        "        print(\"[TRAIN] EPOCH: {} | BATCH: {}/{} | TRAIN_LOSS: {} | TRAIN_ACC: {}\".format(epoch+1, step, len(train_dataloader), loss.item(), tmp_train_accuracy))\n",
        "    \n",
        "    avg_train_loss = total_loss/len(train_dataloader)\n",
        "    train_loss_list.append(avg_train_loss)\n",
        "\n",
        "    print(\"Train Accuracy: {}\".format(train_accuracy/nb_train_steps))\n",
        "    print(\"Train F1 Score: {}\".format(train_f1/ nb_train_steps))\n",
        "    print(\"Train Loss: {}\".format(avg_train_loss))\n",
        "\n",
        "    print(\"Running Validation....\")\n",
        "    model.eval()\n",
        "\n",
        "    eval_loss = 0\n",
        "    eval_accuracy = 0\n",
        "    eval_f1 = 0\n",
        "    nb_eval_steps = 0\n",
        "\n",
        "    for batch in valid_dataloader:\n",
        "      image = batch[0].to(device)\n",
        "      label = batch[1].to(device)\n",
        "\n",
        "\n",
        "      with torch.no_grad():\n",
        "        outputs = model(image)\n",
        "\n",
        "        loss = loss_fn(outputs, label)\n",
        "        eval_loss += loss.item()\n",
        "\n",
        "        tmp_eval_accuracy, tmp_f1_score = evalution(outputs, label)\n",
        "\n",
        "        eval_accuracy += tmp_eval_accuracy\n",
        "        eval_f1 += tmp_f1_score\n",
        "        nb_eval_steps += 1\n",
        "    \n",
        "    avg_eval_loss = eval_loss/nb_eval_steps\n",
        "    print(\"Valid loss: {}\".format(avg_eval_loss))\n",
        "    print(\"Valid Accuracy: {}\".format(eval_accuracy/nb_eval_steps))\n",
        "    print(\"Valid F1 Score: {}\".format(eval_f1 /nb_eval_steps))\n",
        "\n",
        "    valid_loss_list.append(avg_eval_loss)\n",
        "\n",
        "    if best_valid_loss > avg_eval_loss:\n",
        "      best_valid_loss = avg_eval_loss\n",
        "      save_checkpoint(file_path+'/model.pt', model, optimizer, best_valid_loss)\n",
        "\n",
        "    save_metrics(file_path + '/metrics.pt',train_loss_list, valid_loss_list)\n",
        "  print(\"Fnished Training!\")"
      ],
      "execution_count": null,
      "outputs": []
    },
    {
      "cell_type": "code",
      "metadata": {
        "id": "0cVaBgcfVvCV",
        "colab": {
          "base_uri": "https://localhost:8080/"
        },
        "outputId": "194c7dcb-f234-488a-f16e-64f4bd14aac2"
      },
      "source": [
        "device = 'cuda' if torch.cuda.is_available() else 'cpu'\n",
        "print(f\"Using device: {device}\")"
      ],
      "execution_count": null,
      "outputs": [
        {
          "output_type": "stream",
          "text": [
            "Using device: cuda\n"
          ],
          "name": "stdout"
        }
      ]
    },
    {
      "cell_type": "code",
      "metadata": {
        "id": "nWYl-gmKavjr",
        "colab": {
          "base_uri": "https://localhost:8080/"
        },
        "outputId": "cc12b3f8-fe68-49f4-cb39-6ceaf474ad22"
      },
      "source": [
        "!wget https://storage.googleapis.com/bit_models/BiT-M-R152x2.npz"
      ],
      "execution_count": null,
      "outputs": [
        {
          "output_type": "stream",
          "text": [
            "--2021-08-25 17:02:40--  https://storage.googleapis.com/bit_models/BiT-M-R152x2.npz\n",
            "Resolving storage.googleapis.com (storage.googleapis.com)... 173.194.193.128, 173.194.194.128, 173.194.195.128, ...\n",
            "Connecting to storage.googleapis.com (storage.googleapis.com)|173.194.193.128|:443... connected.\n",
            "HTTP request sent, awaiting response... 200 OK\n",
            "Length: 1287051752 (1.2G) [application/octet-stream]\n",
            "Saving to: ‘BiT-M-R152x2.npz.9’\n",
            "\n",
            "BiT-M-R152x2.npz.9  100%[===================>]   1.20G  52.9MB/s    in 24s     \n",
            "\n",
            "2021-08-25 17:03:06 (50.6 MB/s) - ‘BiT-M-R152x2.npz.9’ saved [1287051752/1287051752]\n",
            "\n"
          ],
          "name": "stdout"
        }
      ]
    },
    {
      "cell_type": "code",
      "metadata": {
        "id": "lLQOxkreVhyv"
      },
      "source": [
        "model = KNOWN_MODELS['BiT-M-R152x2'](head_size = 100, zero_head = True)\n",
        "model.load_from(np.load(\"/content/drive/MyDrive/Deep Learning Co Ban/BiT-M-R152x2.npz\"))"
      ],
      "execution_count": null,
      "outputs": []
    },
    {
      "cell_type": "code",
      "metadata": {
        "id": "Pi2kRW-GX8kX"
      },
      "source": [
        "model = model.to(device)"
      ],
      "execution_count": null,
      "outputs": []
    },
    {
      "cell_type": "code",
      "metadata": {
        "id": "qUu1UOfuYBZY"
      },
      "source": [
        "loss_fn = nn.CrossEntropyLoss().to(device)"
      ],
      "execution_count": null,
      "outputs": []
    },
    {
      "cell_type": "code",
      "metadata": {
        "id": "cBKDShIXYK_y"
      },
      "source": [
        "optimizer = torch.optim.SGD(model.parameters(), lr=0.001, momentum=0.9)"
      ],
      "execution_count": null,
      "outputs": []
    },
    {
      "cell_type": "code",
      "metadata": {
        "colab": {
          "base_uri": "https://localhost:8080/"
        },
        "id": "4OJxpA05YPM3",
        "outputId": "fe3fdc44-3b07-4723-d251-75e5d178d3b3"
      },
      "source": [
        "train(device = device,model = model, optimizer = optimizer, train_dataloader=train_dataloader, loss_fn = loss_fn, valid_dataloader =valid_dataloader, num_epochs = 40, file_path = r\"/content/drive/MyDrive/Deep Learning Co Ban\" )"
      ],
      "execution_count": null,
      "outputs": [
        {
          "metadata": {
            "tags": null
          },
          "name": "stdout",
          "output_type": "stream",
          "text": [
            "====== Epoch: 1/40 =======\n"
          ]
        },
        {
          "metadata": {
            "tags": null
          },
          "name": "stderr",
          "output_type": "stream",
          "text": [
            "/usr/local/lib/python3.7/dist-packages/torch/nn/functional.py:718: UserWarning: Named tensors and all their associated APIs are an experimental feature and subject to change. Please do not use them for anything important until they are released as stable. (Triggered internally at  /pytorch/c10/core/TensorImpl.h:1156.)\n",
            "  return torch.max_pool2d(input, kernel_size, stride, padding, dilation, ceil_mode)\n"
          ]
        },
        {
          "output_type": "stream",
          "text": [
            "[TRAIN] EPOCH: 1 | BATCH: 0/625 | TRAIN_LOSS: 4.605169773101807 | TRAIN_ACC: 0.0\n",
            "[TRAIN] EPOCH: 1 | BATCH: 100/625 | TRAIN_LOSS: 2.0895893573760986 | TRAIN_ACC: 0.6875\n",
            "[TRAIN] EPOCH: 1 | BATCH: 200/625 | TRAIN_LOSS: 0.6891558766365051 | TRAIN_ACC: 0.84375\n",
            "[TRAIN] EPOCH: 1 | BATCH: 300/625 | TRAIN_LOSS: 0.5701186060905457 | TRAIN_ACC: 0.84375\n",
            "[TRAIN] EPOCH: 1 | BATCH: 400/625 | TRAIN_LOSS: 0.665952205657959 | TRAIN_ACC: 0.84375\n",
            "[TRAIN] EPOCH: 1 | BATCH: 500/625 | TRAIN_LOSS: 1.0660018920898438 | TRAIN_ACC: 0.734375\n",
            "[TRAIN] EPOCH: 1 | BATCH: 600/625 | TRAIN_LOSS: 0.5027773976325989 | TRAIN_ACC: 0.828125\n",
            "Train Accuracy: 0.74175\n",
            "Train F1 Score: 0.6470066172655152\n",
            "Train Loss: 1.1921204625368118\n",
            "Running Validation....\n",
            "Valid loss: 0.610120633984827\n",
            "Valid Accuracy: 0.8278264331210191\n",
            "Valid F1 Score: 0.7359953132979694\n",
            "Model is saved ==> /content/drive/MyDrive/Deep Learning Co Ban/model.pt\n",
            "Metrics is saved ==> /content/drive/MyDrive/Deep Learning Co Ban/metrics.pt\n",
            "====== Epoch: 2/40 =======\n",
            "[TRAIN] EPOCH: 2 | BATCH: 0/625 | TRAIN_LOSS: 0.1437351256608963 | TRAIN_ACC: 0.9375\n",
            "[TRAIN] EPOCH: 2 | BATCH: 100/625 | TRAIN_LOSS: 0.3852320611476898 | TRAIN_ACC: 0.90625\n",
            "[TRAIN] EPOCH: 2 | BATCH: 200/625 | TRAIN_LOSS: 0.09241507202386856 | TRAIN_ACC: 0.984375\n",
            "[TRAIN] EPOCH: 2 | BATCH: 300/625 | TRAIN_LOSS: 0.2152831107378006 | TRAIN_ACC: 0.9375\n",
            "[TRAIN] EPOCH: 2 | BATCH: 400/625 | TRAIN_LOSS: 0.27717554569244385 | TRAIN_ACC: 0.90625\n",
            "[TRAIN] EPOCH: 2 | BATCH: 500/625 | TRAIN_LOSS: 0.36382627487182617 | TRAIN_ACC: 0.890625\n",
            "[TRAIN] EPOCH: 2 | BATCH: 600/625 | TRAIN_LOSS: 0.362576425075531 | TRAIN_ACC: 0.890625\n",
            "Train Accuracy: 0.914775\n",
            "Train F1 Score: 0.8597840474920757\n",
            "Train Loss: 0.2847998579263687\n",
            "Running Validation....\n",
            "Valid loss: 0.5699928788836025\n",
            "Valid Accuracy: 0.8441480891719745\n",
            "Valid F1 Score: 0.7564816183205697\n",
            "Model is saved ==> /content/drive/MyDrive/Deep Learning Co Ban/model.pt\n",
            "Metrics is saved ==> /content/drive/MyDrive/Deep Learning Co Ban/metrics.pt\n",
            "====== Epoch: 3/40 =======\n",
            "[TRAIN] EPOCH: 3 | BATCH: 0/625 | TRAIN_LOSS: 0.3695644438266754 | TRAIN_ACC: 0.890625\n",
            "[TRAIN] EPOCH: 3 | BATCH: 100/625 | TRAIN_LOSS: 0.03813676908612251 | TRAIN_ACC: 1.0\n",
            "[TRAIN] EPOCH: 3 | BATCH: 200/625 | TRAIN_LOSS: 0.10000849515199661 | TRAIN_ACC: 0.984375\n",
            "[TRAIN] EPOCH: 3 | BATCH: 300/625 | TRAIN_LOSS: 0.03738896921277046 | TRAIN_ACC: 0.984375\n",
            "[TRAIN] EPOCH: 3 | BATCH: 400/625 | TRAIN_LOSS: 0.030001819133758545 | TRAIN_ACC: 1.0\n",
            "[TRAIN] EPOCH: 3 | BATCH: 500/625 | TRAIN_LOSS: 0.16902399063110352 | TRAIN_ACC: 0.96875\n",
            "[TRAIN] EPOCH: 3 | BATCH: 600/625 | TRAIN_LOSS: 0.21243643760681152 | TRAIN_ACC: 0.953125\n",
            "Train Accuracy: 0.959975\n",
            "Train F1 Score: 0.9322304865610856\n",
            "Train Loss: 0.1315960554137826\n",
            "Running Validation....\n",
            "Valid loss: 0.5201539613638714\n",
            "Valid Accuracy: 0.8623606687898089\n",
            "Valid F1 Score: 0.7805073229337097\n",
            "Model is saved ==> /content/drive/MyDrive/Deep Learning Co Ban/model.pt\n",
            "Metrics is saved ==> /content/drive/MyDrive/Deep Learning Co Ban/metrics.pt\n",
            "====== Epoch: 4/40 =======\n",
            "[TRAIN] EPOCH: 4 | BATCH: 0/625 | TRAIN_LOSS: 0.10022561252117157 | TRAIN_ACC: 0.96875\n",
            "[TRAIN] EPOCH: 4 | BATCH: 100/625 | TRAIN_LOSS: 0.059869300574064255 | TRAIN_ACC: 0.984375\n",
            "[TRAIN] EPOCH: 4 | BATCH: 200/625 | TRAIN_LOSS: 0.06482439488172531 | TRAIN_ACC: 0.96875\n",
            "[TRAIN] EPOCH: 4 | BATCH: 300/625 | TRAIN_LOSS: 0.048707474023103714 | TRAIN_ACC: 0.96875\n",
            "[TRAIN] EPOCH: 4 | BATCH: 400/625 | TRAIN_LOSS: 0.10605093836784363 | TRAIN_ACC: 0.953125\n",
            "[TRAIN] EPOCH: 4 | BATCH: 500/625 | TRAIN_LOSS: 0.015223564580082893 | TRAIN_ACC: 1.0\n",
            "[TRAIN] EPOCH: 4 | BATCH: 600/625 | TRAIN_LOSS: 0.11388520151376724 | TRAIN_ACC: 0.96875\n",
            "Train Accuracy: 0.982675\n",
            "Train F1 Score: 0.9695078179503924\n",
            "Train Loss: 0.05797391231581569\n",
            "Running Validation....\n",
            "Valid loss: 0.538676074688222\n",
            "Valid Accuracy: 0.8648487261146497\n",
            "Valid F1 Score: 0.7858918525304699\n",
            "Metrics is saved ==> /content/drive/MyDrive/Deep Learning Co Ban/metrics.pt\n",
            "====== Epoch: 5/40 =======\n",
            "[TRAIN] EPOCH: 5 | BATCH: 0/625 | TRAIN_LOSS: 0.013203317299485207 | TRAIN_ACC: 1.0\n",
            "[TRAIN] EPOCH: 5 | BATCH: 100/625 | TRAIN_LOSS: 0.0383620448410511 | TRAIN_ACC: 0.984375\n",
            "[TRAIN] EPOCH: 5 | BATCH: 200/625 | TRAIN_LOSS: 0.02566448226571083 | TRAIN_ACC: 1.0\n",
            "[TRAIN] EPOCH: 5 | BATCH: 300/625 | TRAIN_LOSS: 0.012561004608869553 | TRAIN_ACC: 1.0\n",
            "[TRAIN] EPOCH: 5 | BATCH: 400/625 | TRAIN_LOSS: 0.003394272644072771 | TRAIN_ACC: 1.0\n",
            "[TRAIN] EPOCH: 5 | BATCH: 500/625 | TRAIN_LOSS: 0.02658982388675213 | TRAIN_ACC: 1.0\n",
            "[TRAIN] EPOCH: 5 | BATCH: 600/625 | TRAIN_LOSS: 0.0273162592202425 | TRAIN_ACC: 0.984375\n",
            "Train Accuracy: 0.99165\n",
            "Train F1 Score: 0.9852131742311246\n",
            "Train Loss: 0.029353041359782218\n",
            "Running Validation....\n",
            "Valid loss: 0.5340947889408488\n",
            "Valid Accuracy: 0.8683320063694268\n",
            "Valid F1 Score: 0.7935047843733977\n",
            "Metrics is saved ==> /content/drive/MyDrive/Deep Learning Co Ban/metrics.pt\n",
            "====== Epoch: 6/40 =======\n",
            "[TRAIN] EPOCH: 6 | BATCH: 0/625 | TRAIN_LOSS: 0.022411592304706573 | TRAIN_ACC: 1.0\n",
            "[TRAIN] EPOCH: 6 | BATCH: 100/625 | TRAIN_LOSS: 0.01238339114934206 | TRAIN_ACC: 1.0\n",
            "[TRAIN] EPOCH: 6 | BATCH: 200/625 | TRAIN_LOSS: 0.017086122184991837 | TRAIN_ACC: 1.0\n",
            "[TRAIN] EPOCH: 6 | BATCH: 300/625 | TRAIN_LOSS: 0.011180813424289227 | TRAIN_ACC: 1.0\n",
            "[TRAIN] EPOCH: 6 | BATCH: 400/625 | TRAIN_LOSS: 0.08299761265516281 | TRAIN_ACC: 0.984375\n",
            "[TRAIN] EPOCH: 6 | BATCH: 500/625 | TRAIN_LOSS: 0.03186792507767677 | TRAIN_ACC: 0.984375\n",
            "[TRAIN] EPOCH: 6 | BATCH: 600/625 | TRAIN_LOSS: 0.021497875452041626 | TRAIN_ACC: 0.984375\n",
            "Train Accuracy: 0.994475\n",
            "Train F1 Score: 0.9905655498192435\n",
            "Train Loss: 0.020401165120024232\n",
            "Running Validation....\n",
            "Valid loss: 0.5602972760891459\n",
            "Valid Accuracy: 0.8678343949044586\n",
            "Valid F1 Score: 0.7937990152671809\n",
            "Metrics is saved ==> /content/drive/MyDrive/Deep Learning Co Ban/metrics.pt\n",
            "====== Epoch: 7/40 =======\n",
            "[TRAIN] EPOCH: 7 | BATCH: 0/625 | TRAIN_LOSS: 0.02797151729464531 | TRAIN_ACC: 0.984375\n",
            "[TRAIN] EPOCH: 7 | BATCH: 100/625 | TRAIN_LOSS: 0.0026391390711069107 | TRAIN_ACC: 1.0\n",
            "[TRAIN] EPOCH: 7 | BATCH: 200/625 | TRAIN_LOSS: 0.010659611783921719 | TRAIN_ACC: 1.0\n",
            "[TRAIN] EPOCH: 7 | BATCH: 300/625 | TRAIN_LOSS: 0.005833182483911514 | TRAIN_ACC: 1.0\n",
            "[TRAIN] EPOCH: 7 | BATCH: 400/625 | TRAIN_LOSS: 0.007881607860326767 | TRAIN_ACC: 1.0\n",
            "[TRAIN] EPOCH: 7 | BATCH: 500/625 | TRAIN_LOSS: 0.009497864171862602 | TRAIN_ACC: 1.0\n",
            "[TRAIN] EPOCH: 7 | BATCH: 600/625 | TRAIN_LOSS: 0.0024387966841459274 | TRAIN_ACC: 1.0\n",
            "Train Accuracy: 0.99605\n",
            "Train F1 Score: 0.9929378614144109\n",
            "Train Loss: 0.014652284535113722\n",
            "Running Validation....\n",
            "Valid loss: 0.5525383441501363\n",
            "Valid Accuracy: 0.8742038216560509\n",
            "Valid F1 Score: 0.7986470914874413\n",
            "Metrics is saved ==> /content/drive/MyDrive/Deep Learning Co Ban/metrics.pt\n",
            "====== Epoch: 8/40 =======\n",
            "[TRAIN] EPOCH: 8 | BATCH: 0/625 | TRAIN_LOSS: 0.004434197675436735 | TRAIN_ACC: 1.0\n",
            "[TRAIN] EPOCH: 8 | BATCH: 100/625 | TRAIN_LOSS: 0.003107638331130147 | TRAIN_ACC: 1.0\n",
            "[TRAIN] EPOCH: 8 | BATCH: 200/625 | TRAIN_LOSS: 0.0016252708155661821 | TRAIN_ACC: 1.0\n",
            "[TRAIN] EPOCH: 8 | BATCH: 300/625 | TRAIN_LOSS: 0.0009899353608489037 | TRAIN_ACC: 1.0\n",
            "[TRAIN] EPOCH: 8 | BATCH: 400/625 | TRAIN_LOSS: 0.00141818355768919 | TRAIN_ACC: 1.0\n",
            "[TRAIN] EPOCH: 8 | BATCH: 500/625 | TRAIN_LOSS: 0.0016575501067563891 | TRAIN_ACC: 1.0\n",
            "[TRAIN] EPOCH: 8 | BATCH: 600/625 | TRAIN_LOSS: 0.027023933827877045 | TRAIN_ACC: 0.984375\n",
            "Train Accuracy: 0.997925\n",
            "Train F1 Score: 0.9964377870412745\n",
            "Train Loss: 0.008112392638484017\n",
            "Running Validation....\n",
            "Valid loss: 0.519664977991562\n",
            "Valid Accuracy: 0.8834593949044586\n",
            "Valid F1 Score: 0.8123781232094006\n",
            "Model is saved ==> /content/drive/MyDrive/Deep Learning Co Ban/model.pt\n",
            "Metrics is saved ==> /content/drive/MyDrive/Deep Learning Co Ban/metrics.pt\n",
            "====== Epoch: 9/40 =======\n",
            "[TRAIN] EPOCH: 9 | BATCH: 0/625 | TRAIN_LOSS: 0.001782853389158845 | TRAIN_ACC: 1.0\n",
            "[TRAIN] EPOCH: 9 | BATCH: 100/625 | TRAIN_LOSS: 0.06183701753616333 | TRAIN_ACC: 0.984375\n",
            "[TRAIN] EPOCH: 9 | BATCH: 200/625 | TRAIN_LOSS: 0.0008344754460267723 | TRAIN_ACC: 1.0\n",
            "[TRAIN] EPOCH: 9 | BATCH: 300/625 | TRAIN_LOSS: 0.000569499155972153 | TRAIN_ACC: 1.0\n",
            "[TRAIN] EPOCH: 9 | BATCH: 400/625 | TRAIN_LOSS: 0.0003121045883744955 | TRAIN_ACC: 1.0\n",
            "[TRAIN] EPOCH: 9 | BATCH: 500/625 | TRAIN_LOSS: 0.0007817035657353699 | TRAIN_ACC: 1.0\n",
            "[TRAIN] EPOCH: 9 | BATCH: 600/625 | TRAIN_LOSS: 0.0011681144824251533 | TRAIN_ACC: 1.0\n",
            "Train Accuracy: 0.99875\n",
            "Train F1 Score: 0.9979955109890856\n",
            "Train Loss: 0.0055484397220890965\n",
            "Running Validation....\n",
            "Valid loss: 0.5536452760077586\n",
            "Valid Accuracy: 0.8758957006369427\n",
            "Valid F1 Score: 0.8010447539360325\n",
            "Metrics is saved ==> /content/drive/MyDrive/Deep Learning Co Ban/metrics.pt\n",
            "====== Epoch: 10/40 =======\n",
            "[TRAIN] EPOCH: 10 | BATCH: 0/625 | TRAIN_LOSS: 0.02299075573682785 | TRAIN_ACC: 0.984375\n",
            "[TRAIN] EPOCH: 10 | BATCH: 100/625 | TRAIN_LOSS: 0.0034850421361625195 | TRAIN_ACC: 1.0\n",
            "[TRAIN] EPOCH: 10 | BATCH: 200/625 | TRAIN_LOSS: 0.0008313117432408035 | TRAIN_ACC: 1.0\n",
            "[TRAIN] EPOCH: 10 | BATCH: 300/625 | TRAIN_LOSS: 0.002539499197155237 | TRAIN_ACC: 1.0\n",
            "[TRAIN] EPOCH: 10 | BATCH: 400/625 | TRAIN_LOSS: 0.0004479889466892928 | TRAIN_ACC: 1.0\n",
            "[TRAIN] EPOCH: 10 | BATCH: 500/625 | TRAIN_LOSS: 0.00215477729216218 | TRAIN_ACC: 1.0\n",
            "[TRAIN] EPOCH: 10 | BATCH: 600/625 | TRAIN_LOSS: 0.001021619769744575 | TRAIN_ACC: 1.0\n",
            "Train Accuracy: 0.998675\n",
            "Train F1 Score: 0.9976855855582635\n",
            "Train Loss: 0.004686950573325157\n",
            "Running Validation....\n",
            "Valid loss: 0.5229604227148044\n",
            "Valid Accuracy: 0.8878383757961783\n",
            "Valid F1 Score: 0.8189466737191862\n",
            "Metrics is saved ==> /content/drive/MyDrive/Deep Learning Co Ban/metrics.pt\n",
            "====== Epoch: 11/40 =======\n",
            "[TRAIN] EPOCH: 11 | BATCH: 0/625 | TRAIN_LOSS: 0.0024466461036354303 | TRAIN_ACC: 1.0\n",
            "[TRAIN] EPOCH: 11 | BATCH: 100/625 | TRAIN_LOSS: 0.00043635672773234546 | TRAIN_ACC: 1.0\n",
            "[TRAIN] EPOCH: 11 | BATCH: 200/625 | TRAIN_LOSS: 0.0004975543124601245 | TRAIN_ACC: 1.0\n",
            "[TRAIN] EPOCH: 11 | BATCH: 300/625 | TRAIN_LOSS: 0.0006973525159992278 | TRAIN_ACC: 1.0\n",
            "[TRAIN] EPOCH: 11 | BATCH: 400/625 | TRAIN_LOSS: 0.0003376898530405015 | TRAIN_ACC: 1.0\n",
            "[TRAIN] EPOCH: 11 | BATCH: 500/625 | TRAIN_LOSS: 0.0010796620044857264 | TRAIN_ACC: 1.0\n",
            "[TRAIN] EPOCH: 11 | BATCH: 600/625 | TRAIN_LOSS: 0.0002677685988601297 | TRAIN_ACC: 1.0\n",
            "Train Accuracy: 0.9997\n",
            "Train F1 Score: 0.9994165402405178\n",
            "Train Loss: 0.001769492524745874\n",
            "Running Validation....\n",
            "Valid loss: 0.5085676357767005\n",
            "Valid Accuracy: 0.888734076433121\n",
            "Valid F1 Score: 0.8210729819562532\n",
            "Model is saved ==> /content/drive/MyDrive/Deep Learning Co Ban/model.pt\n",
            "Metrics is saved ==> /content/drive/MyDrive/Deep Learning Co Ban/metrics.pt\n",
            "====== Epoch: 12/40 =======\n",
            "[TRAIN] EPOCH: 12 | BATCH: 0/625 | TRAIN_LOSS: 0.0003149003314319998 | TRAIN_ACC: 1.0\n",
            "[TRAIN] EPOCH: 12 | BATCH: 100/625 | TRAIN_LOSS: 0.0008979682461358607 | TRAIN_ACC: 1.0\n",
            "[TRAIN] EPOCH: 12 | BATCH: 200/625 | TRAIN_LOSS: 0.00023141295241657645 | TRAIN_ACC: 1.0\n",
            "[TRAIN] EPOCH: 12 | BATCH: 300/625 | TRAIN_LOSS: 0.0002261219487991184 | TRAIN_ACC: 1.0\n",
            "[TRAIN] EPOCH: 12 | BATCH: 400/625 | TRAIN_LOSS: 0.0003547254600562155 | TRAIN_ACC: 1.0\n",
            "[TRAIN] EPOCH: 12 | BATCH: 500/625 | TRAIN_LOSS: 0.0003296155482530594 | TRAIN_ACC: 1.0\n",
            "[TRAIN] EPOCH: 12 | BATCH: 600/625 | TRAIN_LOSS: 0.0004050659481436014 | TRAIN_ACC: 1.0\n",
            "Train Accuracy: 0.99995\n",
            "Train F1 Score: 0.9999109743589742\n",
            "Train Loss: 0.0005316610183450394\n",
            "Running Validation....\n",
            "Valid loss: 0.5090730864625828\n",
            "Valid Accuracy: 0.8910230891719745\n",
            "Valid F1 Score: 0.8212364327684242\n",
            "Metrics is saved ==> /content/drive/MyDrive/Deep Learning Co Ban/metrics.pt\n",
            "====== Epoch: 13/40 =======\n",
            "[TRAIN] EPOCH: 13 | BATCH: 0/625 | TRAIN_LOSS: 0.0005590368527919054 | TRAIN_ACC: 1.0\n",
            "[TRAIN] EPOCH: 13 | BATCH: 100/625 | TRAIN_LOSS: 0.0003437802952248603 | TRAIN_ACC: 1.0\n",
            "[TRAIN] EPOCH: 13 | BATCH: 200/625 | TRAIN_LOSS: 0.00020379690977279097 | TRAIN_ACC: 1.0\n",
            "[TRAIN] EPOCH: 13 | BATCH: 300/625 | TRAIN_LOSS: 0.0005508586764335632 | TRAIN_ACC: 1.0\n",
            "[TRAIN] EPOCH: 13 | BATCH: 400/625 | TRAIN_LOSS: 0.00027919624699279666 | TRAIN_ACC: 1.0\n",
            "[TRAIN] EPOCH: 13 | BATCH: 500/625 | TRAIN_LOSS: 0.00021759663650300354 | TRAIN_ACC: 1.0\n",
            "[TRAIN] EPOCH: 13 | BATCH: 600/625 | TRAIN_LOSS: 0.00024554389528930187 | TRAIN_ACC: 1.0\n",
            "Train Accuracy: 1.0\n",
            "Train F1 Score: 1.0\n",
            "Train Loss: 0.0003344882631674409\n",
            "Running Validation....\n",
            "Valid loss: 0.5082218791877222\n",
            "Valid Accuracy: 0.8911226114649682\n",
            "Valid F1 Score: 0.8238390836556054\n",
            "Model is saved ==> /content/drive/MyDrive/Deep Learning Co Ban/model.pt\n",
            "Metrics is saved ==> /content/drive/MyDrive/Deep Learning Co Ban/metrics.pt\n",
            "====== Epoch: 14/40 =======\n",
            "[TRAIN] EPOCH: 14 | BATCH: 0/625 | TRAIN_LOSS: 0.0002825890260282904 | TRAIN_ACC: 1.0\n",
            "[TRAIN] EPOCH: 14 | BATCH: 100/625 | TRAIN_LOSS: 0.0002487033198121935 | TRAIN_ACC: 1.0\n",
            "[TRAIN] EPOCH: 14 | BATCH: 200/625 | TRAIN_LOSS: 0.00011013204493792728 | TRAIN_ACC: 1.0\n",
            "[TRAIN] EPOCH: 14 | BATCH: 300/625 | TRAIN_LOSS: 0.00016403209883719683 | TRAIN_ACC: 1.0\n",
            "[TRAIN] EPOCH: 14 | BATCH: 400/625 | TRAIN_LOSS: 0.00024838984245434403 | TRAIN_ACC: 1.0\n",
            "[TRAIN] EPOCH: 14 | BATCH: 500/625 | TRAIN_LOSS: 0.00017056179058272392 | TRAIN_ACC: 1.0\n",
            "[TRAIN] EPOCH: 14 | BATCH: 600/625 | TRAIN_LOSS: 0.0003244205145165324 | TRAIN_ACC: 1.0\n",
            "Train Accuracy: 1.0\n",
            "Train F1 Score: 1.0\n",
            "Train Loss: 0.0002683478101855144\n",
            "Running Validation....\n",
            "Valid loss: 0.5138968687718082\n",
            "Valid Accuracy: 0.8912221337579618\n",
            "Valid F1 Score: 0.8200702186760299\n",
            "Metrics is saved ==> /content/drive/MyDrive/Deep Learning Co Ban/metrics.pt\n",
            "====== Epoch: 15/40 =======\n",
            "[TRAIN] EPOCH: 15 | BATCH: 0/625 | TRAIN_LOSS: 0.00029504072153940797 | TRAIN_ACC: 1.0\n",
            "[TRAIN] EPOCH: 15 | BATCH: 100/625 | TRAIN_LOSS: 0.00016956969921011478 | TRAIN_ACC: 1.0\n",
            "[TRAIN] EPOCH: 15 | BATCH: 200/625 | TRAIN_LOSS: 0.00013377251161728054 | TRAIN_ACC: 1.0\n",
            "[TRAIN] EPOCH: 15 | BATCH: 300/625 | TRAIN_LOSS: 0.00011239213199587539 | TRAIN_ACC: 1.0\n",
            "[TRAIN] EPOCH: 15 | BATCH: 400/625 | TRAIN_LOSS: 0.0002212695253547281 | TRAIN_ACC: 1.0\n",
            "[TRAIN] EPOCH: 15 | BATCH: 500/625 | TRAIN_LOSS: 0.0001355149142909795 | TRAIN_ACC: 1.0\n",
            "[TRAIN] EPOCH: 15 | BATCH: 600/625 | TRAIN_LOSS: 0.00024290561850648373 | TRAIN_ACC: 1.0\n",
            "Train Accuracy: 1.0\n",
            "Train F1 Score: 1.0\n",
            "Train Loss: 0.00023419158115284516\n",
            "Running Validation....\n",
            "Valid loss: 0.5174629937881118\n",
            "Valid Accuracy: 0.8911226114649682\n",
            "Valid F1 Score: 0.8240649501711005\n",
            "Metrics is saved ==> /content/drive/MyDrive/Deep Learning Co Ban/metrics.pt\n",
            "====== Epoch: 16/40 =======\n",
            "[TRAIN] EPOCH: 16 | BATCH: 0/625 | TRAIN_LOSS: 0.0002523392904549837 | TRAIN_ACC: 1.0\n",
            "[TRAIN] EPOCH: 16 | BATCH: 100/625 | TRAIN_LOSS: 0.0002521280257496983 | TRAIN_ACC: 1.0\n",
            "[TRAIN] EPOCH: 16 | BATCH: 200/625 | TRAIN_LOSS: 0.0001355075801257044 | TRAIN_ACC: 1.0\n",
            "[TRAIN] EPOCH: 16 | BATCH: 300/625 | TRAIN_LOSS: 0.00022056844318285584 | TRAIN_ACC: 1.0\n",
            "[TRAIN] EPOCH: 16 | BATCH: 400/625 | TRAIN_LOSS: 0.00013892124115955085 | TRAIN_ACC: 1.0\n",
            "[TRAIN] EPOCH: 16 | BATCH: 500/625 | TRAIN_LOSS: 0.00017803703667595983 | TRAIN_ACC: 1.0\n",
            "[TRAIN] EPOCH: 16 | BATCH: 600/625 | TRAIN_LOSS: 0.00022632522450294346 | TRAIN_ACC: 1.0\n",
            "Train Accuracy: 1.0\n",
            "Train F1 Score: 1.0\n",
            "Train Loss: 0.00021020043735625222\n",
            "Running Validation....\n",
            "Valid loss: 0.5189525094951034\n",
            "Valid Accuracy: 0.8905254777070064\n",
            "Valid F1 Score: 0.8219677145151324\n",
            "Metrics is saved ==> /content/drive/MyDrive/Deep Learning Co Ban/metrics.pt\n",
            "====== Epoch: 17/40 =======\n",
            "[TRAIN] EPOCH: 17 | BATCH: 0/625 | TRAIN_LOSS: 0.00010312068479834124 | TRAIN_ACC: 1.0\n",
            "[TRAIN] EPOCH: 17 | BATCH: 100/625 | TRAIN_LOSS: 0.00014759093755856156 | TRAIN_ACC: 1.0\n",
            "[TRAIN] EPOCH: 17 | BATCH: 200/625 | TRAIN_LOSS: 0.00017872512398753315 | TRAIN_ACC: 1.0\n",
            "[TRAIN] EPOCH: 17 | BATCH: 300/625 | TRAIN_LOSS: 0.00017644937906879932 | TRAIN_ACC: 1.0\n",
            "[TRAIN] EPOCH: 17 | BATCH: 400/625 | TRAIN_LOSS: 0.0001609709142940119 | TRAIN_ACC: 1.0\n",
            "[TRAIN] EPOCH: 17 | BATCH: 500/625 | TRAIN_LOSS: 0.00025097696925513446 | TRAIN_ACC: 1.0\n",
            "[TRAIN] EPOCH: 17 | BATCH: 600/625 | TRAIN_LOSS: 0.0001986238348763436 | TRAIN_ACC: 1.0\n",
            "Train Accuracy: 1.0\n",
            "Train F1 Score: 1.0\n",
            "Train Loss: 0.0001910234978538938\n",
            "Running Validation....\n",
            "Valid loss: 0.5230299800539472\n",
            "Valid Accuracy: 0.890625\n",
            "Valid F1 Score: 0.8235445002718452\n",
            "Metrics is saved ==> /content/drive/MyDrive/Deep Learning Co Ban/metrics.pt\n",
            "====== Epoch: 18/40 =======\n",
            "[TRAIN] EPOCH: 18 | BATCH: 0/625 | TRAIN_LOSS: 0.0001692043588263914 | TRAIN_ACC: 1.0\n",
            "[TRAIN] EPOCH: 18 | BATCH: 100/625 | TRAIN_LOSS: 0.0001586690341355279 | TRAIN_ACC: 1.0\n",
            "[TRAIN] EPOCH: 18 | BATCH: 200/625 | TRAIN_LOSS: 0.0002029905008384958 | TRAIN_ACC: 1.0\n",
            "[TRAIN] EPOCH: 18 | BATCH: 300/625 | TRAIN_LOSS: 0.00017619894060771912 | TRAIN_ACC: 1.0\n",
            "[TRAIN] EPOCH: 18 | BATCH: 400/625 | TRAIN_LOSS: 0.0002065485605271533 | TRAIN_ACC: 1.0\n",
            "[TRAIN] EPOCH: 18 | BATCH: 500/625 | TRAIN_LOSS: 9.602563659427688e-05 | TRAIN_ACC: 1.0\n",
            "[TRAIN] EPOCH: 18 | BATCH: 600/625 | TRAIN_LOSS: 0.00013574972399510443 | TRAIN_ACC: 1.0\n",
            "Train Accuracy: 1.0\n",
            "Train F1 Score: 1.0\n",
            "Train Loss: 0.00017566395442117938\n",
            "Running Validation....\n",
            "Valid loss: 0.5217291140442442\n",
            "Valid Accuracy: 0.8912221337579618\n",
            "Valid F1 Score: 0.8227807894498675\n",
            "Metrics is saved ==> /content/drive/MyDrive/Deep Learning Co Ban/metrics.pt\n",
            "====== Epoch: 19/40 =======\n",
            "[TRAIN] EPOCH: 19 | BATCH: 0/625 | TRAIN_LOSS: 0.0002775384928099811 | TRAIN_ACC: 1.0\n",
            "[TRAIN] EPOCH: 19 | BATCH: 100/625 | TRAIN_LOSS: 0.00016690875054337084 | TRAIN_ACC: 1.0\n",
            "[TRAIN] EPOCH: 19 | BATCH: 200/625 | TRAIN_LOSS: 0.00014694506535306573 | TRAIN_ACC: 1.0\n",
            "[TRAIN] EPOCH: 19 | BATCH: 300/625 | TRAIN_LOSS: 8.549507037969306e-05 | TRAIN_ACC: 1.0\n",
            "[TRAIN] EPOCH: 19 | BATCH: 400/625 | TRAIN_LOSS: 0.00013269539340399206 | TRAIN_ACC: 1.0\n",
            "[TRAIN] EPOCH: 19 | BATCH: 500/625 | TRAIN_LOSS: 0.00014979582920204848 | TRAIN_ACC: 1.0\n",
            "[TRAIN] EPOCH: 19 | BATCH: 600/625 | TRAIN_LOSS: 0.00020849559223279357 | TRAIN_ACC: 1.0\n",
            "Train Accuracy: 1.0\n",
            "Train F1 Score: 1.0\n",
            "Train Loss: 0.00016269654667121358\n",
            "Running Validation....\n",
            "Valid loss: 0.5221932100926995\n",
            "Valid Accuracy: 0.8915207006369427\n",
            "Valid F1 Score: 0.8218164116332227\n",
            "Metrics is saved ==> /content/drive/MyDrive/Deep Learning Co Ban/metrics.pt\n",
            "====== Epoch: 20/40 =======\n",
            "[TRAIN] EPOCH: 20 | BATCH: 0/625 | TRAIN_LOSS: 8.762208744883537e-05 | TRAIN_ACC: 1.0\n",
            "[TRAIN] EPOCH: 20 | BATCH: 100/625 | TRAIN_LOSS: 0.00018342000839766115 | TRAIN_ACC: 1.0\n",
            "[TRAIN] EPOCH: 20 | BATCH: 200/625 | TRAIN_LOSS: 0.00013884880172554404 | TRAIN_ACC: 1.0\n",
            "[TRAIN] EPOCH: 20 | BATCH: 300/625 | TRAIN_LOSS: 0.00019921539933420718 | TRAIN_ACC: 1.0\n",
            "[TRAIN] EPOCH: 20 | BATCH: 400/625 | TRAIN_LOSS: 0.0001113879116019234 | TRAIN_ACC: 1.0\n",
            "[TRAIN] EPOCH: 20 | BATCH: 500/625 | TRAIN_LOSS: 0.00013142572424840182 | TRAIN_ACC: 1.0\n",
            "[TRAIN] EPOCH: 20 | BATCH: 600/625 | TRAIN_LOSS: 0.00012048580538248643 | TRAIN_ACC: 1.0\n",
            "Train Accuracy: 1.0\n",
            "Train F1 Score: 1.0\n",
            "Train Loss: 0.00015180342422099784\n",
            "Running Validation....\n",
            "Valid loss: 0.5261434895122886\n",
            "Valid Accuracy: 0.8913216560509554\n",
            "Valid F1 Score: 0.8216052971566059\n",
            "Metrics is saved ==> /content/drive/MyDrive/Deep Learning Co Ban/metrics.pt\n",
            "====== Epoch: 21/40 =======\n",
            "[TRAIN] EPOCH: 21 | BATCH: 0/625 | TRAIN_LOSS: 0.00012141386832809076 | TRAIN_ACC: 1.0\n",
            "[TRAIN] EPOCH: 21 | BATCH: 100/625 | TRAIN_LOSS: 0.00011028719018213451 | TRAIN_ACC: 1.0\n",
            "[TRAIN] EPOCH: 21 | BATCH: 200/625 | TRAIN_LOSS: 8.534947846783325e-05 | TRAIN_ACC: 1.0\n",
            "[TRAIN] EPOCH: 21 | BATCH: 300/625 | TRAIN_LOSS: 0.000161936623044312 | TRAIN_ACC: 1.0\n",
            "[TRAIN] EPOCH: 21 | BATCH: 400/625 | TRAIN_LOSS: 0.0001921441435115412 | TRAIN_ACC: 1.0\n",
            "[TRAIN] EPOCH: 21 | BATCH: 500/625 | TRAIN_LOSS: 7.880119665060192e-05 | TRAIN_ACC: 1.0\n",
            "[TRAIN] EPOCH: 21 | BATCH: 600/625 | TRAIN_LOSS: 0.00010422462946735322 | TRAIN_ACC: 1.0\n",
            "Train Accuracy: 1.0\n",
            "Train F1 Score: 1.0\n",
            "Train Loss: 0.00014232401973567903\n",
            "Running Validation....\n",
            "Valid loss: 0.5276714666823673\n",
            "Valid Accuracy: 0.8913216560509554\n",
            "Valid F1 Score: 0.824885907695315\n",
            "Metrics is saved ==> /content/drive/MyDrive/Deep Learning Co Ban/metrics.pt\n",
            "====== Epoch: 22/40 =======\n",
            "[TRAIN] EPOCH: 22 | BATCH: 0/625 | TRAIN_LOSS: 9.583838254911825e-05 | TRAIN_ACC: 1.0\n",
            "[TRAIN] EPOCH: 22 | BATCH: 100/625 | TRAIN_LOSS: 0.00018367245502304286 | TRAIN_ACC: 1.0\n",
            "[TRAIN] EPOCH: 22 | BATCH: 200/625 | TRAIN_LOSS: 0.0001654561492614448 | TRAIN_ACC: 1.0\n",
            "[TRAIN] EPOCH: 22 | BATCH: 300/625 | TRAIN_LOSS: 7.129140431061387e-05 | TRAIN_ACC: 1.0\n",
            "[TRAIN] EPOCH: 22 | BATCH: 400/625 | TRAIN_LOSS: 0.000111594024929218 | TRAIN_ACC: 1.0\n",
            "[TRAIN] EPOCH: 22 | BATCH: 500/625 | TRAIN_LOSS: 0.00013147272693458945 | TRAIN_ACC: 1.0\n",
            "[TRAIN] EPOCH: 22 | BATCH: 600/625 | TRAIN_LOSS: 7.601889228681102e-05 | TRAIN_ACC: 1.0\n",
            "Train Accuracy: 1.0\n",
            "Train F1 Score: 1.0\n",
            "Train Loss: 0.00013423737170523964\n",
            "Running Validation....\n",
            "Valid loss: 0.5296441294241009\n",
            "Valid Accuracy: 0.89171974522293\n",
            "Valid F1 Score: 0.8258488940913413\n",
            "Metrics is saved ==> /content/drive/MyDrive/Deep Learning Co Ban/metrics.pt\n",
            "====== Epoch: 23/40 =======\n",
            "[TRAIN] EPOCH: 23 | BATCH: 0/625 | TRAIN_LOSS: 9.86381564871408e-05 | TRAIN_ACC: 1.0\n",
            "[TRAIN] EPOCH: 23 | BATCH: 100/625 | TRAIN_LOSS: 0.0001551351451780647 | TRAIN_ACC: 1.0\n",
            "[TRAIN] EPOCH: 23 | BATCH: 200/625 | TRAIN_LOSS: 0.0001330735394731164 | TRAIN_ACC: 1.0\n",
            "[TRAIN] EPOCH: 23 | BATCH: 300/625 | TRAIN_LOSS: 0.00014350753917824477 | TRAIN_ACC: 1.0\n",
            "[TRAIN] EPOCH: 23 | BATCH: 400/625 | TRAIN_LOSS: 6.107000081101432e-05 | TRAIN_ACC: 1.0\n",
            "[TRAIN] EPOCH: 23 | BATCH: 500/625 | TRAIN_LOSS: 0.00013737630797550082 | TRAIN_ACC: 1.0\n",
            "[TRAIN] EPOCH: 23 | BATCH: 600/625 | TRAIN_LOSS: 0.00011445816198829561 | TRAIN_ACC: 1.0\n",
            "Train Accuracy: 1.0\n",
            "Train F1 Score: 1.0\n",
            "Train Loss: 0.00012705264752148652\n",
            "Running Validation....\n",
            "Valid loss: 0.5289970187434725\n",
            "Valid Accuracy: 0.8918192675159236\n",
            "Valid F1 Score: 0.8246744180291562\n",
            "Metrics is saved ==> /content/drive/MyDrive/Deep Learning Co Ban/metrics.pt\n",
            "====== Epoch: 24/40 =======\n",
            "[TRAIN] EPOCH: 24 | BATCH: 0/625 | TRAIN_LOSS: 8.494551002513617e-05 | TRAIN_ACC: 1.0\n",
            "[TRAIN] EPOCH: 24 | BATCH: 100/625 | TRAIN_LOSS: 0.00010563028627075255 | TRAIN_ACC: 1.0\n",
            "[TRAIN] EPOCH: 24 | BATCH: 200/625 | TRAIN_LOSS: 0.00013818171282764524 | TRAIN_ACC: 1.0\n",
            "[TRAIN] EPOCH: 24 | BATCH: 300/625 | TRAIN_LOSS: 0.00023440844961442053 | TRAIN_ACC: 1.0\n",
            "[TRAIN] EPOCH: 24 | BATCH: 400/625 | TRAIN_LOSS: 0.0001587810693308711 | TRAIN_ACC: 1.0\n",
            "[TRAIN] EPOCH: 24 | BATCH: 500/625 | TRAIN_LOSS: 0.00020694626437034458 | TRAIN_ACC: 1.0\n",
            "[TRAIN] EPOCH: 24 | BATCH: 600/625 | TRAIN_LOSS: 0.0001374444254906848 | TRAIN_ACC: 1.0\n",
            "Train Accuracy: 1.0\n",
            "Train F1 Score: 1.0\n",
            "Train Loss: 0.00012054703761823475\n",
            "Running Validation....\n",
            "Valid loss: 0.5345924239439569\n",
            "Valid Accuracy: 0.8919187898089171\n",
            "Valid F1 Score: 0.8266319115109373\n",
            "Metrics is saved ==> /content/drive/MyDrive/Deep Learning Co Ban/metrics.pt\n",
            "====== Epoch: 25/40 =======\n",
            "[TRAIN] EPOCH: 25 | BATCH: 0/625 | TRAIN_LOSS: 0.00011291710688965395 | TRAIN_ACC: 1.0\n",
            "[TRAIN] EPOCH: 25 | BATCH: 100/625 | TRAIN_LOSS: 0.0001950202859006822 | TRAIN_ACC: 1.0\n",
            "[TRAIN] EPOCH: 25 | BATCH: 200/625 | TRAIN_LOSS: 0.00014596474647987634 | TRAIN_ACC: 1.0\n",
            "[TRAIN] EPOCH: 25 | BATCH: 300/625 | TRAIN_LOSS: 6.999274773988873e-05 | TRAIN_ACC: 1.0\n",
            "[TRAIN] EPOCH: 25 | BATCH: 400/625 | TRAIN_LOSS: 0.0002847418945748359 | TRAIN_ACC: 1.0\n",
            "[TRAIN] EPOCH: 25 | BATCH: 500/625 | TRAIN_LOSS: 0.00012838277325499803 | TRAIN_ACC: 1.0\n",
            "[TRAIN] EPOCH: 25 | BATCH: 600/625 | TRAIN_LOSS: 9.776052320376039e-05 | TRAIN_ACC: 1.0\n",
            "Train Accuracy: 1.0\n",
            "Train F1 Score: 1.0\n",
            "Train Loss: 0.00011476919432752766\n",
            "Running Validation....\n",
            "Valid loss: 0.5352816658604677\n",
            "Valid Accuracy: 0.8916202229299363\n",
            "Valid F1 Score: 0.8243264497037474\n",
            "Metrics is saved ==> /content/drive/MyDrive/Deep Learning Co Ban/metrics.pt\n",
            "====== Epoch: 26/40 =======\n",
            "[TRAIN] EPOCH: 26 | BATCH: 0/625 | TRAIN_LOSS: 6.795884837629274e-05 | TRAIN_ACC: 1.0\n",
            "[TRAIN] EPOCH: 26 | BATCH: 100/625 | TRAIN_LOSS: 8.323342626681551e-05 | TRAIN_ACC: 1.0\n",
            "[TRAIN] EPOCH: 26 | BATCH: 200/625 | TRAIN_LOSS: 5.718349711969495e-05 | TRAIN_ACC: 1.0\n",
            "[TRAIN] EPOCH: 26 | BATCH: 300/625 | TRAIN_LOSS: 0.00011053174239350483 | TRAIN_ACC: 1.0\n",
            "[TRAIN] EPOCH: 26 | BATCH: 400/625 | TRAIN_LOSS: 0.00011558487312868237 | TRAIN_ACC: 1.0\n",
            "[TRAIN] EPOCH: 26 | BATCH: 500/625 | TRAIN_LOSS: 0.00010809709056047723 | TRAIN_ACC: 1.0\n",
            "[TRAIN] EPOCH: 26 | BATCH: 600/625 | TRAIN_LOSS: 5.3125804697629064e-05 | TRAIN_ACC: 1.0\n",
            "Train Accuracy: 1.0\n",
            "Train F1 Score: 1.0\n",
            "Train Loss: 0.00010950985928066074\n",
            "Running Validation....\n",
            "Valid loss: 0.5387056615132435\n",
            "Valid Accuracy: 0.8922173566878981\n",
            "Valid F1 Score: 0.8221702926937913\n",
            "Metrics is saved ==> /content/drive/MyDrive/Deep Learning Co Ban/metrics.pt\n",
            "====== Epoch: 27/40 =======\n",
            "[TRAIN] EPOCH: 27 | BATCH: 0/625 | TRAIN_LOSS: 5.066224548500031e-05 | TRAIN_ACC: 1.0\n",
            "[TRAIN] EPOCH: 27 | BATCH: 100/625 | TRAIN_LOSS: 7.256551907630637e-05 | TRAIN_ACC: 1.0\n",
            "[TRAIN] EPOCH: 27 | BATCH: 200/625 | TRAIN_LOSS: 0.00013667342136614025 | TRAIN_ACC: 1.0\n",
            "[TRAIN] EPOCH: 27 | BATCH: 300/625 | TRAIN_LOSS: 6.871105870231986e-05 | TRAIN_ACC: 1.0\n",
            "[TRAIN] EPOCH: 27 | BATCH: 400/625 | TRAIN_LOSS: 5.022618643124588e-05 | TRAIN_ACC: 1.0\n",
            "[TRAIN] EPOCH: 27 | BATCH: 500/625 | TRAIN_LOSS: 0.00010516040492802858 | TRAIN_ACC: 1.0\n",
            "[TRAIN] EPOCH: 27 | BATCH: 600/625 | TRAIN_LOSS: 8.100939157884568e-05 | TRAIN_ACC: 1.0\n",
            "Train Accuracy: 1.0\n",
            "Train F1 Score: 1.0\n",
            "Train Loss: 0.00010479310594964772\n",
            "Running Validation....\n",
            "Valid loss: 0.5342152234000764\n",
            "Valid Accuracy: 0.8926154458598726\n",
            "Valid F1 Score: 0.8274833464689133\n",
            "Metrics is saved ==> /content/drive/MyDrive/Deep Learning Co Ban/metrics.pt\n",
            "====== Epoch: 28/40 =======\n",
            "[TRAIN] EPOCH: 28 | BATCH: 0/625 | TRAIN_LOSS: 8.012956823222339e-05 | TRAIN_ACC: 1.0\n",
            "[TRAIN] EPOCH: 28 | BATCH: 100/625 | TRAIN_LOSS: 6.263177783694118e-05 | TRAIN_ACC: 1.0\n",
            "[TRAIN] EPOCH: 28 | BATCH: 200/625 | TRAIN_LOSS: 9.521654283162206e-05 | TRAIN_ACC: 1.0\n",
            "[TRAIN] EPOCH: 28 | BATCH: 300/625 | TRAIN_LOSS: 0.00012033688108203933 | TRAIN_ACC: 1.0\n",
            "[TRAIN] EPOCH: 28 | BATCH: 400/625 | TRAIN_LOSS: 7.699939305894077e-05 | TRAIN_ACC: 1.0\n",
            "[TRAIN] EPOCH: 28 | BATCH: 500/625 | TRAIN_LOSS: 6.805609882576391e-05 | TRAIN_ACC: 1.0\n",
            "[TRAIN] EPOCH: 28 | BATCH: 600/625 | TRAIN_LOSS: 0.00011982735304627568 | TRAIN_ACC: 1.0\n",
            "Train Accuracy: 1.0\n",
            "Train F1 Score: 1.0\n",
            "Train Loss: 0.00010044878158951178\n",
            "Running Validation....\n",
            "Valid loss: 0.538492552983533\n",
            "Valid Accuracy: 0.8923168789808917\n",
            "Valid F1 Score: 0.823935759276135\n",
            "Metrics is saved ==> /content/drive/MyDrive/Deep Learning Co Ban/metrics.pt\n",
            "====== Epoch: 29/40 =======\n",
            "[TRAIN] EPOCH: 29 | BATCH: 0/625 | TRAIN_LOSS: 0.00016620257520116866 | TRAIN_ACC: 1.0\n",
            "[TRAIN] EPOCH: 29 | BATCH: 100/625 | TRAIN_LOSS: 8.62687302287668e-05 | TRAIN_ACC: 1.0\n",
            "[TRAIN] EPOCH: 29 | BATCH: 200/625 | TRAIN_LOSS: 0.00011121656280010939 | TRAIN_ACC: 1.0\n",
            "[TRAIN] EPOCH: 29 | BATCH: 300/625 | TRAIN_LOSS: 8.156383410096169e-05 | TRAIN_ACC: 1.0\n",
            "[TRAIN] EPOCH: 29 | BATCH: 400/625 | TRAIN_LOSS: 6.414212111849338e-05 | TRAIN_ACC: 1.0\n",
            "[TRAIN] EPOCH: 29 | BATCH: 500/625 | TRAIN_LOSS: 6.936222780495882e-05 | TRAIN_ACC: 1.0\n",
            "[TRAIN] EPOCH: 29 | BATCH: 600/625 | TRAIN_LOSS: 7.418342283926904e-05 | TRAIN_ACC: 1.0\n",
            "Train Accuracy: 1.0\n",
            "Train F1 Score: 1.0\n",
            "Train Loss: 9.647063933080062e-05\n",
            "Running Validation....\n",
            "Valid loss: 0.5379036413920912\n",
            "Valid Accuracy: 0.8928144904458599\n",
            "Valid F1 Score: 0.8268663010206452\n",
            "Metrics is saved ==> /content/drive/MyDrive/Deep Learning Co Ban/metrics.pt\n",
            "====== Epoch: 30/40 =======\n",
            "[TRAIN] EPOCH: 30 | BATCH: 0/625 | TRAIN_LOSS: 6.450710498029366e-05 | TRAIN_ACC: 1.0\n",
            "[TRAIN] EPOCH: 30 | BATCH: 100/625 | TRAIN_LOSS: 9.169610711978748e-05 | TRAIN_ACC: 1.0\n",
            "[TRAIN] EPOCH: 30 | BATCH: 200/625 | TRAIN_LOSS: 0.00013401515025179833 | TRAIN_ACC: 1.0\n",
            "[TRAIN] EPOCH: 30 | BATCH: 300/625 | TRAIN_LOSS: 7.289626955753192e-05 | TRAIN_ACC: 1.0\n",
            "[TRAIN] EPOCH: 30 | BATCH: 400/625 | TRAIN_LOSS: 7.824441127013415e-05 | TRAIN_ACC: 1.0\n",
            "[TRAIN] EPOCH: 30 | BATCH: 500/625 | TRAIN_LOSS: 6.529227539431304e-05 | TRAIN_ACC: 1.0\n",
            "[TRAIN] EPOCH: 30 | BATCH: 600/625 | TRAIN_LOSS: 0.00013663715799339116 | TRAIN_ACC: 1.0\n",
            "Train Accuracy: 1.0\n",
            "Train F1 Score: 1.0\n",
            "Train Loss: 9.280058580916374e-05\n",
            "Running Validation....\n",
            "Valid loss: 0.5387675854241013\n",
            "Valid Accuracy: 0.8927149681528662\n",
            "Valid F1 Score: 0.8269356161762602\n",
            "Metrics is saved ==> /content/drive/MyDrive/Deep Learning Co Ban/metrics.pt\n",
            "====== Epoch: 31/40 =======\n",
            "[TRAIN] EPOCH: 31 | BATCH: 0/625 | TRAIN_LOSS: 0.00010723387822508812 | TRAIN_ACC: 1.0\n",
            "[TRAIN] EPOCH: 31 | BATCH: 100/625 | TRAIN_LOSS: 7.839447061996907e-05 | TRAIN_ACC: 1.0\n",
            "[TRAIN] EPOCH: 31 | BATCH: 200/625 | TRAIN_LOSS: 0.00010258546535624191 | TRAIN_ACC: 1.0\n",
            "[TRAIN] EPOCH: 31 | BATCH: 300/625 | TRAIN_LOSS: 6.368381582433358e-05 | TRAIN_ACC: 1.0\n",
            "[TRAIN] EPOCH: 31 | BATCH: 400/625 | TRAIN_LOSS: 9.01501189218834e-05 | TRAIN_ACC: 1.0\n",
            "[TRAIN] EPOCH: 31 | BATCH: 500/625 | TRAIN_LOSS: 0.00015164213255047798 | TRAIN_ACC: 1.0\n",
            "[TRAIN] EPOCH: 31 | BATCH: 600/625 | TRAIN_LOSS: 8.787886326899752e-05 | TRAIN_ACC: 1.0\n",
            "Train Accuracy: 1.0\n",
            "Train F1 Score: 1.0\n",
            "Train Loss: 8.942046467564069e-05\n",
            "Running Validation....\n",
            "Valid loss: 0.5399096360916544\n",
            "Valid Accuracy: 0.8929140127388535\n",
            "Valid F1 Score: 0.8264613668180596\n",
            "Metrics is saved ==> /content/drive/MyDrive/Deep Learning Co Ban/metrics.pt\n",
            "====== Epoch: 32/40 =======\n",
            "[TRAIN] EPOCH: 32 | BATCH: 0/625 | TRAIN_LOSS: 7.778514554956928e-05 | TRAIN_ACC: 1.0\n",
            "[TRAIN] EPOCH: 32 | BATCH: 100/625 | TRAIN_LOSS: 4.501371586229652e-05 | TRAIN_ACC: 1.0\n",
            "[TRAIN] EPOCH: 32 | BATCH: 200/625 | TRAIN_LOSS: 4.5821281673852354e-05 | TRAIN_ACC: 1.0\n",
            "[TRAIN] EPOCH: 32 | BATCH: 300/625 | TRAIN_LOSS: 0.00012308616715017706 | TRAIN_ACC: 1.0\n",
            "[TRAIN] EPOCH: 32 | BATCH: 400/625 | TRAIN_LOSS: 8.54925747262314e-05 | TRAIN_ACC: 1.0\n",
            "[TRAIN] EPOCH: 32 | BATCH: 500/625 | TRAIN_LOSS: 0.00010399601160315797 | TRAIN_ACC: 1.0\n",
            "[TRAIN] EPOCH: 32 | BATCH: 600/625 | TRAIN_LOSS: 7.91230850154534e-05 | TRAIN_ACC: 1.0\n",
            "Train Accuracy: 1.0\n",
            "Train F1 Score: 1.0\n",
            "Train Loss: 8.628361219307408e-05\n",
            "Running Validation....\n",
            "Valid loss: 0.5390189268335606\n",
            "Valid Accuracy: 0.8931130573248408\n",
            "Valid F1 Score: 0.8248495726986274\n",
            "Metrics is saved ==> /content/drive/MyDrive/Deep Learning Co Ban/metrics.pt\n",
            "====== Epoch: 33/40 =======\n",
            "[TRAIN] EPOCH: 33 | BATCH: 0/625 | TRAIN_LOSS: 5.432916805148125e-05 | TRAIN_ACC: 1.0\n",
            "[TRAIN] EPOCH: 33 | BATCH: 100/625 | TRAIN_LOSS: 8.920743857743219e-05 | TRAIN_ACC: 1.0\n",
            "[TRAIN] EPOCH: 33 | BATCH: 200/625 | TRAIN_LOSS: 6.524147465825081e-05 | TRAIN_ACC: 1.0\n",
            "[TRAIN] EPOCH: 33 | BATCH: 300/625 | TRAIN_LOSS: 5.092327774036676e-05 | TRAIN_ACC: 1.0\n",
            "[TRAIN] EPOCH: 33 | BATCH: 400/625 | TRAIN_LOSS: 7.367460057139397e-05 | TRAIN_ACC: 1.0\n",
            "[TRAIN] EPOCH: 33 | BATCH: 500/625 | TRAIN_LOSS: 0.00014010444283485413 | TRAIN_ACC: 1.0\n",
            "[TRAIN] EPOCH: 33 | BATCH: 600/625 | TRAIN_LOSS: 0.00010753546666819602 | TRAIN_ACC: 1.0\n",
            "Train Accuracy: 1.0\n",
            "Train F1 Score: 1.0\n",
            "Train Loss: 8.337774667306803e-05\n",
            "Running Validation....\n",
            "Valid loss: 0.5402297089766165\n",
            "Valid Accuracy: 0.893312101910828\n",
            "Valid F1 Score: 0.8269543067478711\n",
            "Metrics is saved ==> /content/drive/MyDrive/Deep Learning Co Ban/metrics.pt\n",
            "====== Epoch: 34/40 =======\n",
            "[TRAIN] EPOCH: 34 | BATCH: 0/625 | TRAIN_LOSS: 4.779480877914466e-05 | TRAIN_ACC: 1.0\n",
            "[TRAIN] EPOCH: 34 | BATCH: 100/625 | TRAIN_LOSS: 6.033717727405019e-05 | TRAIN_ACC: 1.0\n",
            "[TRAIN] EPOCH: 34 | BATCH: 200/625 | TRAIN_LOSS: 4.937242192681879e-05 | TRAIN_ACC: 1.0\n",
            "[TRAIN] EPOCH: 34 | BATCH: 300/625 | TRAIN_LOSS: 4.9437610869063064e-05 | TRAIN_ACC: 1.0\n",
            "[TRAIN] EPOCH: 34 | BATCH: 400/625 | TRAIN_LOSS: 4.675156742450781e-05 | TRAIN_ACC: 1.0\n",
            "[TRAIN] EPOCH: 34 | BATCH: 500/625 | TRAIN_LOSS: 4.6125875087454915e-05 | TRAIN_ACC: 1.0\n",
            "[TRAIN] EPOCH: 34 | BATCH: 600/625 | TRAIN_LOSS: 0.0001008209292194806 | TRAIN_ACC: 1.0\n",
            "Train Accuracy: 1.0\n",
            "Train F1 Score: 1.0\n",
            "Train Loss: 8.067442498868332e-05\n",
            "Running Validation....\n",
            "Valid loss: 0.5451580920986309\n",
            "Valid Accuracy: 0.892515923566879\n",
            "Valid F1 Score: 0.8268748743768335\n",
            "Metrics is saved ==> /content/drive/MyDrive/Deep Learning Co Ban/metrics.pt\n",
            "====== Epoch: 35/40 =======\n",
            "[TRAIN] EPOCH: 35 | BATCH: 0/625 | TRAIN_LOSS: 9.552432311465964e-05 | TRAIN_ACC: 1.0\n",
            "[TRAIN] EPOCH: 35 | BATCH: 100/625 | TRAIN_LOSS: 5.310936103342101e-05 | TRAIN_ACC: 1.0\n",
            "[TRAIN] EPOCH: 35 | BATCH: 200/625 | TRAIN_LOSS: 6.038696301402524e-05 | TRAIN_ACC: 1.0\n",
            "[TRAIN] EPOCH: 35 | BATCH: 300/625 | TRAIN_LOSS: 5.5319833336398005e-05 | TRAIN_ACC: 1.0\n",
            "[TRAIN] EPOCH: 35 | BATCH: 400/625 | TRAIN_LOSS: 6.76034323987551e-05 | TRAIN_ACC: 1.0\n",
            "[TRAIN] EPOCH: 35 | BATCH: 500/625 | TRAIN_LOSS: 0.00010607949661789462 | TRAIN_ACC: 1.0\n",
            "[TRAIN] EPOCH: 35 | BATCH: 600/625 | TRAIN_LOSS: 5.044182398705743e-05 | TRAIN_ACC: 1.0\n",
            "Train Accuracy: 1.0\n",
            "Train F1 Score: 1.0\n",
            "Train Loss: 7.812108184443786e-05\n",
            "Running Validation....\n",
            "Valid loss: 0.5453977693038382\n",
            "Valid Accuracy: 0.8929140127388535\n",
            "Valid F1 Score: 0.8243094902203255\n",
            "Metrics is saved ==> /content/drive/MyDrive/Deep Learning Co Ban/metrics.pt\n",
            "====== Epoch: 36/40 =======\n",
            "[TRAIN] EPOCH: 36 | BATCH: 0/625 | TRAIN_LOSS: 5.4856787755852565e-05 | TRAIN_ACC: 1.0\n",
            "[TRAIN] EPOCH: 36 | BATCH: 100/625 | TRAIN_LOSS: 4.128216824028641e-05 | TRAIN_ACC: 1.0\n",
            "[TRAIN] EPOCH: 36 | BATCH: 200/625 | TRAIN_LOSS: 8.865207200869918e-05 | TRAIN_ACC: 1.0\n",
            "[TRAIN] EPOCH: 36 | BATCH: 300/625 | TRAIN_LOSS: 5.8250418078387156e-05 | TRAIN_ACC: 1.0\n",
            "[TRAIN] EPOCH: 36 | BATCH: 400/625 | TRAIN_LOSS: 5.232563125900924e-05 | TRAIN_ACC: 1.0\n",
            "[TRAIN] EPOCH: 36 | BATCH: 500/625 | TRAIN_LOSS: 6.533582927659154e-05 | TRAIN_ACC: 1.0\n",
            "[TRAIN] EPOCH: 36 | BATCH: 600/625 | TRAIN_LOSS: 6.108975503593683e-05 | TRAIN_ACC: 1.0\n",
            "Train Accuracy: 1.0\n",
            "Train F1 Score: 1.0\n",
            "Train Loss: 7.575174586672801e-05\n",
            "Running Validation....\n",
            "Valid loss: 0.5531210451843632\n",
            "Valid Accuracy: 0.8922173566878981\n",
            "Valid F1 Score: 0.8258853254426177\n",
            "Metrics is saved ==> /content/drive/MyDrive/Deep Learning Co Ban/metrics.pt\n",
            "====== Epoch: 37/40 =======\n",
            "[TRAIN] EPOCH: 37 | BATCH: 0/625 | TRAIN_LOSS: 0.00012720933591481298 | TRAIN_ACC: 1.0\n",
            "[TRAIN] EPOCH: 37 | BATCH: 100/625 | TRAIN_LOSS: 6.596709863515571e-05 | TRAIN_ACC: 1.0\n",
            "[TRAIN] EPOCH: 37 | BATCH: 200/625 | TRAIN_LOSS: 7.90891790529713e-05 | TRAIN_ACC: 1.0\n",
            "[TRAIN] EPOCH: 37 | BATCH: 300/625 | TRAIN_LOSS: 7.877555617596954e-05 | TRAIN_ACC: 1.0\n",
            "[TRAIN] EPOCH: 37 | BATCH: 400/625 | TRAIN_LOSS: 7.995260239113122e-05 | TRAIN_ACC: 1.0\n",
            "[TRAIN] EPOCH: 37 | BATCH: 500/625 | TRAIN_LOSS: 8.54447134770453e-05 | TRAIN_ACC: 1.0\n",
            "[TRAIN] EPOCH: 37 | BATCH: 600/625 | TRAIN_LOSS: 5.028192026657052e-05 | TRAIN_ACC: 1.0\n",
            "Train Accuracy: 1.0\n",
            "Train F1 Score: 1.0\n",
            "Train Loss: 7.34988152020378e-05\n",
            "Running Validation....\n",
            "Valid loss: 0.5441872809960204\n",
            "Valid Accuracy: 0.8932125796178344\n",
            "Valid F1 Score: 0.8272485400723094\n",
            "Metrics is saved ==> /content/drive/MyDrive/Deep Learning Co Ban/metrics.pt\n",
            "====== Epoch: 38/40 =======\n",
            "[TRAIN] EPOCH: 38 | BATCH: 0/625 | TRAIN_LOSS: 9.219281491823494e-05 | TRAIN_ACC: 1.0\n",
            "[TRAIN] EPOCH: 38 | BATCH: 100/625 | TRAIN_LOSS: 7.828771049389616e-05 | TRAIN_ACC: 1.0\n",
            "[TRAIN] EPOCH: 38 | BATCH: 200/625 | TRAIN_LOSS: 6.827227480243891e-05 | TRAIN_ACC: 1.0\n",
            "[TRAIN] EPOCH: 38 | BATCH: 300/625 | TRAIN_LOSS: 6.461920565925539e-05 | TRAIN_ACC: 1.0\n",
            "[TRAIN] EPOCH: 38 | BATCH: 400/625 | TRAIN_LOSS: 4.2668736568884924e-05 | TRAIN_ACC: 1.0\n",
            "[TRAIN] EPOCH: 38 | BATCH: 500/625 | TRAIN_LOSS: 7.412533886963502e-05 | TRAIN_ACC: 1.0\n",
            "[TRAIN] EPOCH: 38 | BATCH: 600/625 | TRAIN_LOSS: 4.509693098952994e-05 | TRAIN_ACC: 1.0\n",
            "Train Accuracy: 1.0\n",
            "Train F1 Score: 1.0\n",
            "Train Loss: 7.137272675172426e-05\n",
            "Running Validation....\n",
            "Valid loss: 0.5473333414477907\n",
            "Valid Accuracy: 0.8927149681528662\n",
            "Valid F1 Score: 0.8264647642361806\n",
            "Metrics is saved ==> /content/drive/MyDrive/Deep Learning Co Ban/metrics.pt\n",
            "====== Epoch: 39/40 =======\n",
            "[TRAIN] EPOCH: 39 | BATCH: 0/625 | TRAIN_LOSS: 7.597052899654955e-05 | TRAIN_ACC: 1.0\n",
            "[TRAIN] EPOCH: 39 | BATCH: 100/625 | TRAIN_LOSS: 0.00010685135202948004 | TRAIN_ACC: 1.0\n",
            "[TRAIN] EPOCH: 39 | BATCH: 200/625 | TRAIN_LOSS: 9.240811777999625e-05 | TRAIN_ACC: 1.0\n",
            "[TRAIN] EPOCH: 39 | BATCH: 300/625 | TRAIN_LOSS: 0.00013048938126303256 | TRAIN_ACC: 1.0\n",
            "[TRAIN] EPOCH: 39 | BATCH: 400/625 | TRAIN_LOSS: 8.663273911224678e-05 | TRAIN_ACC: 1.0\n",
            "[TRAIN] EPOCH: 39 | BATCH: 500/625 | TRAIN_LOSS: 4.200941475573927e-05 | TRAIN_ACC: 1.0\n",
            "[TRAIN] EPOCH: 39 | BATCH: 600/625 | TRAIN_LOSS: 5.832712122355588e-05 | TRAIN_ACC: 1.0\n",
            "Train Accuracy: 1.0\n",
            "Train F1 Score: 1.0\n",
            "Train Loss: 6.937363649776671e-05\n",
            "Running Validation....\n",
            "Valid loss: 0.5460670484573977\n",
            "Valid Accuracy: 0.8929140127388535\n",
            "Valid F1 Score: 0.8255908341691293\n",
            "Metrics is saved ==> /content/drive/MyDrive/Deep Learning Co Ban/metrics.pt\n",
            "====== Epoch: 40/40 =======\n",
            "[TRAIN] EPOCH: 40 | BATCH: 0/625 | TRAIN_LOSS: 9.091164247365668e-05 | TRAIN_ACC: 1.0\n",
            "[TRAIN] EPOCH: 40 | BATCH: 100/625 | TRAIN_LOSS: 6.660241342615336e-05 | TRAIN_ACC: 1.0\n",
            "[TRAIN] EPOCH: 40 | BATCH: 200/625 | TRAIN_LOSS: 3.0292752853711136e-05 | TRAIN_ACC: 1.0\n",
            "[TRAIN] EPOCH: 40 | BATCH: 300/625 | TRAIN_LOSS: 8.628598880022764e-05 | TRAIN_ACC: 1.0\n",
            "[TRAIN] EPOCH: 40 | BATCH: 400/625 | TRAIN_LOSS: 7.977264613145962e-05 | TRAIN_ACC: 1.0\n",
            "[TRAIN] EPOCH: 40 | BATCH: 500/625 | TRAIN_LOSS: 8.999822603072971e-05 | TRAIN_ACC: 1.0\n",
            "[TRAIN] EPOCH: 40 | BATCH: 600/625 | TRAIN_LOSS: 6.849328929092735e-05 | TRAIN_ACC: 1.0\n",
            "Train Accuracy: 1.0\n",
            "Train F1 Score: 1.0\n",
            "Train Loss: 6.75243031932041e-05\n",
            "Running Validation....\n",
            "Valid loss: 0.5467373997589965\n",
            "Valid Accuracy: 0.8932125796178344\n",
            "Valid F1 Score: 0.8244518855698897\n",
            "Metrics is saved ==> /content/drive/MyDrive/Deep Learning Co Ban/metrics.pt\n",
            "Fnished Training!\n"
          ],
          "name": "stdout"
        }
      ]
    },
    {
      "cell_type": "code",
      "metadata": {
        "id": "QmKO5OsIpF8B"
      },
      "source": [
        "model = KNOWN_MODELS['BiT-M-R152x2'](head_size = 100, zero_head = True)\n",
        "model.load_from(np.load(\"/content/drive/MyDrive/Deep Learning Co Ban/BiT-M-R152x2.npz\"))\n",
        "model = model.to(device)\n",
        "optimizer = torch.optim.SGD(model.parameters(), lr=0.001, momentum=0.9)"
      ],
      "execution_count": null,
      "outputs": []
    },
    {
      "cell_type": "code",
      "metadata": {
        "id": "Iz6IJL_xC2p7",
        "colab": {
          "base_uri": "https://localhost:8080/"
        },
        "outputId": "f7171319-cd55-4845-c386-94766123a862"
      },
      "source": [
        "load_checkpoint(\"/content/drive/MyDrive/Deep Learning Co Ban/model.pt\", model, optimizer, device)"
      ],
      "execution_count": null,
      "outputs": [
        {
          "output_type": "stream",
          "text": [
            "Load checkpoint from /content/drive/MyDrive/Deep Learning Co Ban/model.pt\n"
          ],
          "name": "stdout"
        },
        {
          "output_type": "execute_result",
          "data": {
            "text/plain": [
              "0.5082218791877222"
            ]
          },
          "metadata": {},
          "execution_count": 37
        }
      ]
    },
    {
      "cell_type": "code",
      "metadata": {
        "id": "wY8PVh6RC8qI",
        "colab": {
          "base_uri": "https://localhost:8080/"
        },
        "outputId": "1cab5720-bce2-4221-a804-c1b21cc9cf25"
      },
      "source": [
        "for batch in test_dataloader:\n",
        "  image = batch[0]\n",
        "  label = batch[1]\n",
        "  print(image.size())\n",
        "  break"
      ],
      "execution_count": null,
      "outputs": [
        {
          "output_type": "stream",
          "text": [
            "torch.Size([1, 3, 128, 128])\n"
          ],
          "name": "stdout"
        }
      ]
    },
    {
      "cell_type": "code",
      "metadata": {
        "id": "-_9KkhgqDAH9",
        "colab": {
          "base_uri": "https://localhost:8080/"
        },
        "outputId": "4530905a-de57-4af8-f275-3feed8d40f0d"
      },
      "source": [
        "predict(model, test_dataloader, device)"
      ],
      "execution_count": null,
      "outputs": [
        {
          "output_type": "stream",
          "text": [
            "Classification Report:\n",
            "               precision    recall  f1-score   support\n",
            "\n",
            "        apple       0.95      0.99      0.97       100\n",
            "aquarium_fish       0.95      0.96      0.96       100\n",
            "         baby       0.77      0.81      0.79       100\n",
            "         bear       0.91      0.81      0.86       100\n",
            "       beaver       0.79      0.81      0.80       100\n",
            "          bed       0.92      0.94      0.93       100\n",
            "          bee       0.91      0.97      0.94       100\n",
            "       beetle       0.87      0.90      0.88       100\n",
            "      bicycle       0.92      0.96      0.94       100\n",
            "       bottle       0.94      0.96      0.95       100\n",
            "         bowl       0.82      0.82      0.82       100\n",
            "          boy       0.69      0.81      0.75       100\n",
            "       bridge       0.94      0.95      0.95       100\n",
            "          bus       0.90      0.86      0.88       100\n",
            "    butterfly       0.97      0.96      0.96       100\n",
            "        camel       0.91      0.90      0.90       100\n",
            "          can       0.95      0.91      0.93       100\n",
            "       castle       0.98      0.93      0.95       100\n",
            "  caterpillar       0.93      0.91      0.92       100\n",
            "       cattle       0.94      0.91      0.92       100\n",
            "        chair       0.94      0.95      0.95       100\n",
            "   chimpanzee       0.92      0.99      0.95       100\n",
            "        clock       0.97      0.95      0.96       100\n",
            "        cloud       0.97      0.85      0.90       100\n",
            "    cockroach       0.98      0.91      0.94       100\n",
            "        couch       0.91      0.86      0.88       100\n",
            "         crab       0.81      0.88      0.85       100\n",
            "    crocodile       0.89      0.87      0.88       100\n",
            "          cup       0.90      0.90      0.90       100\n",
            "     dinosaur       0.89      0.87      0.88       100\n",
            "      dolphin       0.87      0.87      0.87       100\n",
            "     elephant       0.96      0.94      0.95       100\n",
            "     flatfish       0.84      0.87      0.85       100\n",
            "       forest       0.81      0.83      0.82       100\n",
            "          fox       0.94      0.88      0.91       100\n",
            "         girl       0.81      0.64      0.72       100\n",
            "      hamster       0.93      0.91      0.92       100\n",
            "        house       0.90      0.90      0.90       100\n",
            "     kangaroo       0.90      0.87      0.88       100\n",
            "     keyboard       0.96      0.96      0.96       100\n",
            "         lamp       0.93      0.93      0.93       100\n",
            "   lawn_mower       0.95      1.00      0.98       100\n",
            "      leopard       0.85      0.91      0.88       100\n",
            "         lion       0.96      0.91      0.93       100\n",
            "       lizard       0.85      0.88      0.86       100\n",
            "      lobster       0.86      0.82      0.84       100\n",
            "          man       0.84      0.81      0.82       100\n",
            "   maple_tree       0.58      0.65      0.61       100\n",
            "   motorcycle       0.95      0.96      0.96       100\n",
            "     mountain       0.91      0.97      0.94       100\n",
            "        mouse       0.81      0.83      0.82       100\n",
            "     mushroom       0.98      0.96      0.97       100\n",
            "     oak_tree       0.59      0.69      0.64       100\n",
            "       orange       0.97      1.00      0.99       100\n",
            "       orchid       0.92      0.96      0.94       100\n",
            "        otter       0.68      0.76      0.72       100\n",
            "    palm_tree       0.98      0.96      0.97       100\n",
            "         pear       0.93      0.94      0.94       100\n",
            " pickup_truck       0.95      0.96      0.96       100\n",
            "    pine_tree       0.88      0.78      0.83       100\n",
            "        plain       0.92      0.89      0.90       100\n",
            "        plate       0.91      0.91      0.91       100\n",
            "        poppy       0.94      0.91      0.92       100\n",
            "    porcupine       0.93      0.82      0.87       100\n",
            "       possum       0.78      0.76      0.77       100\n",
            "       rabbit       0.84      0.89      0.86       100\n",
            "      raccoon       0.94      0.92      0.93       100\n",
            "          ray       0.88      0.85      0.86       100\n",
            "         road       0.91      0.99      0.95       100\n",
            "       rocket       0.92      0.94      0.93       100\n",
            "         rose       0.87      0.96      0.91       100\n",
            "          sea       0.83      0.92      0.87       100\n",
            "         seal       0.78      0.77      0.77       100\n",
            "        shark       0.84      0.84      0.84       100\n",
            "        shrew       0.76      0.81      0.78       100\n",
            "        skunk       0.97      0.99      0.98       100\n",
            "   skyscraper       0.97      0.95      0.96       100\n",
            "        snail       0.92      0.92      0.92       100\n",
            "        snake       0.95      0.89      0.92       100\n",
            "       spider       0.90      0.95      0.93       100\n",
            "     squirrel       0.89      0.86      0.87       100\n",
            "    streetcar       0.87      0.86      0.86       100\n",
            "    sunflower       0.99      0.96      0.97       100\n",
            " sweet_pepper       0.97      0.96      0.96       100\n",
            "        table       0.90      0.94      0.92       100\n",
            "         tank       0.95      0.97      0.96       100\n",
            "    telephone       0.96      0.92      0.94       100\n",
            "   television       0.91      0.96      0.94       100\n",
            "        tiger       0.92      0.88      0.90       100\n",
            "      tractor       0.98      0.96      0.97       100\n",
            "        train       0.89      0.88      0.88       100\n",
            "        trout       0.97      0.95      0.96       100\n",
            "        tulip       0.92      0.84      0.88       100\n",
            "       turtle       0.92      0.85      0.89       100\n",
            "     wardrobe       0.96      0.99      0.98       100\n",
            "        whale       0.90      0.84      0.87       100\n",
            "  willow_tree       0.81      0.63      0.71       100\n",
            "         wolf       0.93      0.93      0.93       100\n",
            "        woman       0.79      0.84      0.82       100\n",
            "         worm       0.89      0.92      0.91       100\n",
            "\n",
            "     accuracy                           0.89     10000\n",
            "    macro avg       0.89      0.89      0.89     10000\n",
            " weighted avg       0.89      0.89      0.89     10000\n",
            "\n"
          ],
          "name": "stdout"
        },
        {
          "output_type": "execute_result",
          "data": {
            "text/plain": [
              "(0.8927, 0.8928717786330261)"
            ]
          },
          "metadata": {},
          "execution_count": 39
        }
      ]
    },
    {
      "cell_type": "code",
      "metadata": {
        "id": "HY0hCBA0Duuf"
      },
      "source": [
        "import matplotlib.pyplot as plt"
      ],
      "execution_count": null,
      "outputs": []
    },
    {
      "cell_type": "code",
      "metadata": {
        "id": "As3qmm8KD4fn"
      },
      "source": [
        "train_loss_list, valid_loss_list = load_metrics(\"/content/drive/MyDrive/Deep Learning Co Ban/metrics.pt\", device)"
      ],
      "execution_count": null,
      "outputs": []
    },
    {
      "cell_type": "code",
      "metadata": {
        "id": "fZgQidMnD8Tz",
        "colab": {
          "base_uri": "https://localhost:8080/",
          "height": 296
        },
        "outputId": "c6cf2946-9953-42dc-d1e7-6e2575282380"
      },
      "source": [
        "plt.plot(train_loss_list, label='Train Loss')\n",
        "plt.plot(valid_loss_list, label='Valid Loss')\n",
        "plt.xlabel('Epoch')\n",
        "plt.ylabel('Loss')\n",
        "plt.legend()"
      ],
      "execution_count": null,
      "outputs": [
        {
          "output_type": "execute_result",
          "data": {
            "text/plain": [
              "<matplotlib.legend.Legend at 0x7f41f41b6250>"
            ]
          },
          "metadata": {},
          "execution_count": 42
        },
        {
          "output_type": "display_data",
          "data": {
            "image/png": "[encoded data removed]",
            "text/plain": [
              "<Figure size 432x288 with 1 Axes>"
            ]
          },
          "metadata": {
            "needs_background": "light"
          }
        }
      ]
    },
    {
      "cell_type": "code",
      "metadata": {
        "id": "lXZjyy4jqUDv"
      },
      "source": [
        "test_set = list(test_set)"
      ],
      "execution_count": null,
      "outputs": []
    },
    {
      "cell_type": "code",
      "metadata": {
        "id": "UFkdWArXkRzK",
        "colab": {
          "base_uri": "https://localhost:8080/"
        },
        "outputId": "1a596093-fa8d-4a05-f3c7-2cb6d2367930"
      },
      "source": [
        "test_set[5]"
      ],
      "execution_count": null,
      "outputs": [
        {
          "output_type": "execute_result",
          "data": {
            "text/plain": [
              "(tensor([[[ 0.3176,  0.3176,  0.3176,  ..., -0.4902, -0.4980, -0.4980],\n",
              "          [ 0.3176,  0.3176,  0.3176,  ..., -0.4902, -0.4980, -0.4980],\n",
              "          [ 0.3098,  0.3098,  0.3098,  ..., -0.4902, -0.4980, -0.4980],\n",
              "          ...,\n",
              "          [-0.6471, -0.6471, -0.6549,  ..., -0.5137, -0.5137, -0.5137],\n",
              "          [-0.7020, -0.7020, -0.7098,  ..., -0.5059, -0.5137, -0.5137],\n",
              "          [-0.7020, -0.7020, -0.7098,  ..., -0.5059, -0.5137, -0.5137]],\n",
              " \n",
              "         [[ 0.2549,  0.2549,  0.2549,  ..., -0.4275, -0.4353, -0.4353],\n",
              "          [ 0.2549,  0.2549,  0.2549,  ..., -0.4275, -0.4353, -0.4353],\n",
              "          [ 0.2471,  0.2471,  0.2471,  ..., -0.4275, -0.4353, -0.4353],\n",
              "          ...,\n",
              "          [-0.7176, -0.7176, -0.7333,  ..., -0.6078, -0.6157, -0.6157],\n",
              "          [-0.7804, -0.7804, -0.7882,  ..., -0.6078, -0.6157, -0.6157],\n",
              "          [-0.7804, -0.7804, -0.7882,  ..., -0.6078, -0.6157, -0.6157]],\n",
              " \n",
              "         [[-0.1529, -0.1529, -0.1608,  ..., -0.5373, -0.5451, -0.5451],\n",
              "          [-0.1529, -0.1529, -0.1608,  ..., -0.5373, -0.5451, -0.5451],\n",
              "          [-0.1608, -0.1608, -0.1608,  ..., -0.5373, -0.5451, -0.5451],\n",
              "          ...,\n",
              "          [-0.8118, -0.8118, -0.8196,  ..., -0.7490, -0.7569, -0.7569],\n",
              "          [-0.8510, -0.8510, -0.8588,  ..., -0.7490, -0.7569, -0.7569],\n",
              "          [-0.8510, -0.8510, -0.8588,  ..., -0.7490, -0.7569, -0.7569]]]), 92)"
            ]
          },
          "metadata": {},
          "execution_count": 44
        }
      ]
    },
    {
      "cell_type": "code",
      "metadata": {
        "id": "KCyGWeXQpcy4"
      },
      "source": [
        "image = test_set[5][0].view((1,3,128,128)).to(device)\n",
        "output = model(image)"
      ],
      "execution_count": null,
      "outputs": []
    },
    {
      "cell_type": "code",
      "metadata": {
        "id": "LaA7Fthtrbpn"
      },
      "source": [
        "pred = output.detach().cpu().numpy()\n",
        "pred = np.argmax(pred, axis=1)"
      ],
      "execution_count": null,
      "outputs": []
    },
    {
      "cell_type": "code",
      "metadata": {
        "id": "t4NdaZ1Vrxg3",
        "colab": {
          "base_uri": "https://localhost:8080/"
        },
        "outputId": "29c583a1-a66a-4d49-a7d4-401a3ee5335d"
      },
      "source": [
        "pred, test_set[5][1]"
      ],
      "execution_count": null,
      "outputs": [
        {
          "output_type": "execute_result",
          "data": {
            "text/plain": [
              "(array([92]), 92)"
            ]
          },
          "metadata": {},
          "execution_count": 47
        }
      ]
    },
    {
      "cell_type": "code",
      "metadata": {
        "id": "Y5vrMX89r8KX",
        "colab": {
          "base_uri": "https://localhost:8080/"
        },
        "outputId": "e0bb7489-5dff-4df7-8902-3a9d98eeebb8"
      },
      "source": [
        "print(f\"Predict Label: {idx_to_class[pred[0]]}\")\n",
        "print(f\"True Label: {idx_to_class[test_set[5][1]]}\")"
      ],
      "execution_count": null,
      "outputs": [
        {
          "output_type": "stream",
          "text": [
            "Predict Label: tulip\n",
            "True Label: tulip\n"
          ],
          "name": "stdout"
        }
      ]
    },
    {
      "cell_type": "code",
      "metadata": {
        "id": "p4z1ASiOsTrn",
        "colab": {
          "base_uri": "https://localhost:8080/",
          "height": 302
        },
        "outputId": "54e6fde6-d87c-4c31-cfb0-9d80845c96af"
      },
      "source": [
        "plt.imshow(test_set[5][0].view(128,128,3))"
      ],
      "execution_count": null,
      "outputs": [
        {
          "output_type": "stream",
          "text": [
            "Clipping input data to the valid range for imshow with RGB data ([0..1] for floats or [0..255] for integers).\n"
          ],
          "name": "stderr"
        },
        {
          "output_type": "execute_result",
          "data": {
            "text/plain": [
              "<matplotlib.image.AxesImage at 0x7f41f408e390>"
            ]
          },
          "metadata": {},
          "execution_count": 49
        },
        {
          "output_type": "display_data",
          "data": {
            "image/png": "[encoded data removed]",
            "text/plain": [
              "<Figure size 432x288 with 1 Axes>"
            ]
          },
          "metadata": {
            "needs_background": "light"
          }
        }
      ]
    },
    {
      "cell_type": "code",
      "metadata": {
        "id": "MjCWUOf-sY1s"
      },
      "source": [
        ""
      ],
      "execution_count": null,
      "outputs": []
    }
  ]
}